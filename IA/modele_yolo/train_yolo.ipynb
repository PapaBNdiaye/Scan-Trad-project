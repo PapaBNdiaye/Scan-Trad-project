{
  "nbformat": 4,
  "nbformat_minor": 0,
  "metadata": {
    "colab": {
      "provenance": [],
      "gpuType": "T4"
    },
    "kernelspec": {
      "name": "python3",
      "display_name": "Python 3"
    },
    "language_info": {
      "name": "python"
    },
    "accelerator": "GPU"
  },
  "cells": [
    {
      "cell_type": "markdown",
      "source": [
        "# Entraînement YOLO pour la détection de bulles de texte\n",
        "\n",
        "Ce notebook permet d'entraîner un modèle YOLO pour détecter les bulles de texte dans les images de manga.\n"
      ],
      "metadata": {
        "id": "c-Ek6_WX8XpF"
      }
    },
    {
      "cell_type": "code",
      "source": [
        "# Installation des dépendances\n",
        "!pip install ultralytics\n"
      ],
      "metadata": {
        "colab": {
          "base_uri": "https://localhost:8080/"
        },
        "id": "vy9l4eCd8i3b",
        "outputId": "88418aae-8135-418d-ad1b-e38b8d594e9b"
      },
      "execution_count": 1,
      "outputs": [
        {
          "output_type": "stream",
          "name": "stdout",
          "text": [
            "Collecting ultralytics\n",
            "  Downloading ultralytics-8.3.149-py3-none-any.whl.metadata (37 kB)\n",
            "Requirement already satisfied: numpy>=1.23.0 in /usr/local/lib/python3.11/dist-packages (from ultralytics) (2.0.2)\n",
            "Requirement already satisfied: matplotlib>=3.3.0 in /usr/local/lib/python3.11/dist-packages (from ultralytics) (3.10.0)\n",
            "Requirement already satisfied: opencv-python>=4.6.0 in /usr/local/lib/python3.11/dist-packages (from ultralytics) (4.11.0.86)\n",
            "Requirement already satisfied: pillow>=7.1.2 in /usr/local/lib/python3.11/dist-packages (from ultralytics) (11.2.1)\n",
            "Requirement already satisfied: pyyaml>=5.3.1 in /usr/local/lib/python3.11/dist-packages (from ultralytics) (6.0.2)\n",
            "Requirement already satisfied: requests>=2.23.0 in /usr/local/lib/python3.11/dist-packages (from ultralytics) (2.32.3)\n",
            "Requirement already satisfied: scipy>=1.4.1 in /usr/local/lib/python3.11/dist-packages (from ultralytics) (1.15.3)\n",
            "Requirement already satisfied: torch>=1.8.0 in /usr/local/lib/python3.11/dist-packages (from ultralytics) (2.6.0+cu124)\n",
            "Requirement already satisfied: torchvision>=0.9.0 in /usr/local/lib/python3.11/dist-packages (from ultralytics) (0.21.0+cu124)\n",
            "Requirement already satisfied: tqdm>=4.64.0 in /usr/local/lib/python3.11/dist-packages (from ultralytics) (4.67.1)\n",
            "Requirement already satisfied: psutil in /usr/local/lib/python3.11/dist-packages (from ultralytics) (5.9.5)\n",
            "Requirement already satisfied: py-cpuinfo in /usr/local/lib/python3.11/dist-packages (from ultralytics) (9.0.0)\n",
            "Requirement already satisfied: pandas>=1.1.4 in /usr/local/lib/python3.11/dist-packages (from ultralytics) (2.2.2)\n",
            "Collecting ultralytics-thop>=2.0.0 (from ultralytics)\n",
            "  Downloading ultralytics_thop-2.0.14-py3-none-any.whl.metadata (9.4 kB)\n",
            "Requirement already satisfied: contourpy>=1.0.1 in /usr/local/lib/python3.11/dist-packages (from matplotlib>=3.3.0->ultralytics) (1.3.2)\n",
            "Requirement already satisfied: cycler>=0.10 in /usr/local/lib/python3.11/dist-packages (from matplotlib>=3.3.0->ultralytics) (0.12.1)\n",
            "Requirement already satisfied: fonttools>=4.22.0 in /usr/local/lib/python3.11/dist-packages (from matplotlib>=3.3.0->ultralytics) (4.58.1)\n",
            "Requirement already satisfied: kiwisolver>=1.3.1 in /usr/local/lib/python3.11/dist-packages (from matplotlib>=3.3.0->ultralytics) (1.4.8)\n",
            "Requirement already satisfied: packaging>=20.0 in /usr/local/lib/python3.11/dist-packages (from matplotlib>=3.3.0->ultralytics) (24.2)\n",
            "Requirement already satisfied: pyparsing>=2.3.1 in /usr/local/lib/python3.11/dist-packages (from matplotlib>=3.3.0->ultralytics) (3.2.3)\n",
            "Requirement already satisfied: python-dateutil>=2.7 in /usr/local/lib/python3.11/dist-packages (from matplotlib>=3.3.0->ultralytics) (2.9.0.post0)\n",
            "Requirement already satisfied: pytz>=2020.1 in /usr/local/lib/python3.11/dist-packages (from pandas>=1.1.4->ultralytics) (2025.2)\n",
            "Requirement already satisfied: tzdata>=2022.7 in /usr/local/lib/python3.11/dist-packages (from pandas>=1.1.4->ultralytics) (2025.2)\n",
            "Requirement already satisfied: charset-normalizer<4,>=2 in /usr/local/lib/python3.11/dist-packages (from requests>=2.23.0->ultralytics) (3.4.2)\n",
            "Requirement already satisfied: idna<4,>=2.5 in /usr/local/lib/python3.11/dist-packages (from requests>=2.23.0->ultralytics) (3.10)\n",
            "Requirement already satisfied: urllib3<3,>=1.21.1 in /usr/local/lib/python3.11/dist-packages (from requests>=2.23.0->ultralytics) (2.4.0)\n",
            "Requirement already satisfied: certifi>=2017.4.17 in /usr/local/lib/python3.11/dist-packages (from requests>=2.23.0->ultralytics) (2025.4.26)\n",
            "Requirement already satisfied: filelock in /usr/local/lib/python3.11/dist-packages (from torch>=1.8.0->ultralytics) (3.18.0)\n",
            "Requirement already satisfied: typing-extensions>=4.10.0 in /usr/local/lib/python3.11/dist-packages (from torch>=1.8.0->ultralytics) (4.13.2)\n",
            "Requirement already satisfied: networkx in /usr/local/lib/python3.11/dist-packages (from torch>=1.8.0->ultralytics) (3.5)\n",
            "Requirement already satisfied: jinja2 in /usr/local/lib/python3.11/dist-packages (from torch>=1.8.0->ultralytics) (3.1.6)\n",
            "Requirement already satisfied: fsspec in /usr/local/lib/python3.11/dist-packages (from torch>=1.8.0->ultralytics) (2025.3.2)\n",
            "Collecting nvidia-cuda-nvrtc-cu12==12.4.127 (from torch>=1.8.0->ultralytics)\n",
            "  Downloading nvidia_cuda_nvrtc_cu12-12.4.127-py3-none-manylinux2014_x86_64.whl.metadata (1.5 kB)\n",
            "Collecting nvidia-cuda-runtime-cu12==12.4.127 (from torch>=1.8.0->ultralytics)\n",
            "  Downloading nvidia_cuda_runtime_cu12-12.4.127-py3-none-manylinux2014_x86_64.whl.metadata (1.5 kB)\n",
            "Collecting nvidia-cuda-cupti-cu12==12.4.127 (from torch>=1.8.0->ultralytics)\n",
            "  Downloading nvidia_cuda_cupti_cu12-12.4.127-py3-none-manylinux2014_x86_64.whl.metadata (1.6 kB)\n",
            "Collecting nvidia-cudnn-cu12==9.1.0.70 (from torch>=1.8.0->ultralytics)\n",
            "  Downloading nvidia_cudnn_cu12-9.1.0.70-py3-none-manylinux2014_x86_64.whl.metadata (1.6 kB)\n",
            "Collecting nvidia-cublas-cu12==12.4.5.8 (from torch>=1.8.0->ultralytics)\n",
            "  Downloading nvidia_cublas_cu12-12.4.5.8-py3-none-manylinux2014_x86_64.whl.metadata (1.5 kB)\n",
            "Collecting nvidia-cufft-cu12==11.2.1.3 (from torch>=1.8.0->ultralytics)\n",
            "  Downloading nvidia_cufft_cu12-11.2.1.3-py3-none-manylinux2014_x86_64.whl.metadata (1.5 kB)\n",
            "Collecting nvidia-curand-cu12==10.3.5.147 (from torch>=1.8.0->ultralytics)\n",
            "  Downloading nvidia_curand_cu12-10.3.5.147-py3-none-manylinux2014_x86_64.whl.metadata (1.5 kB)\n",
            "Collecting nvidia-cusolver-cu12==11.6.1.9 (from torch>=1.8.0->ultralytics)\n",
            "  Downloading nvidia_cusolver_cu12-11.6.1.9-py3-none-manylinux2014_x86_64.whl.metadata (1.6 kB)\n",
            "Collecting nvidia-cusparse-cu12==12.3.1.170 (from torch>=1.8.0->ultralytics)\n",
            "  Downloading nvidia_cusparse_cu12-12.3.1.170-py3-none-manylinux2014_x86_64.whl.metadata (1.6 kB)\n",
            "Requirement already satisfied: nvidia-cusparselt-cu12==0.6.2 in /usr/local/lib/python3.11/dist-packages (from torch>=1.8.0->ultralytics) (0.6.2)\n",
            "Requirement already satisfied: nvidia-nccl-cu12==2.21.5 in /usr/local/lib/python3.11/dist-packages (from torch>=1.8.0->ultralytics) (2.21.5)\n",
            "Requirement already satisfied: nvidia-nvtx-cu12==12.4.127 in /usr/local/lib/python3.11/dist-packages (from torch>=1.8.0->ultralytics) (12.4.127)\n",
            "Collecting nvidia-nvjitlink-cu12==12.4.127 (from torch>=1.8.0->ultralytics)\n",
            "  Downloading nvidia_nvjitlink_cu12-12.4.127-py3-none-manylinux2014_x86_64.whl.metadata (1.5 kB)\n",
            "Requirement already satisfied: triton==3.2.0 in /usr/local/lib/python3.11/dist-packages (from torch>=1.8.0->ultralytics) (3.2.0)\n",
            "Requirement already satisfied: sympy==1.13.1 in /usr/local/lib/python3.11/dist-packages (from torch>=1.8.0->ultralytics) (1.13.1)\n",
            "Requirement already satisfied: mpmath<1.4,>=1.1.0 in /usr/local/lib/python3.11/dist-packages (from sympy==1.13.1->torch>=1.8.0->ultralytics) (1.3.0)\n",
            "Requirement already satisfied: six>=1.5 in /usr/local/lib/python3.11/dist-packages (from python-dateutil>=2.7->matplotlib>=3.3.0->ultralytics) (1.17.0)\n",
            "Requirement already satisfied: MarkupSafe>=2.0 in /usr/local/lib/python3.11/dist-packages (from jinja2->torch>=1.8.0->ultralytics) (3.0.2)\n",
            "Downloading ultralytics-8.3.149-py3-none-any.whl (1.0 MB)\n",
            "\u001b[2K   \u001b[90m━━━━━━━━━━━━━━━━━━━━━━━━━━━━━━━━━━━━━━━━\u001b[0m \u001b[32m1.0/1.0 MB\u001b[0m \u001b[31m25.6 MB/s\u001b[0m eta \u001b[36m0:00:00\u001b[0m\n",
            "\u001b[?25hDownloading nvidia_cublas_cu12-12.4.5.8-py3-none-manylinux2014_x86_64.whl (363.4 MB)\n",
            "\u001b[2K   \u001b[90m━━━━━━━━━━━━━━━━━━━━━━━━━━━━━━━━━━━━━━━━\u001b[0m \u001b[32m363.4/363.4 MB\u001b[0m \u001b[31m3.1 MB/s\u001b[0m eta \u001b[36m0:00:00\u001b[0m\n",
            "\u001b[?25hDownloading nvidia_cuda_cupti_cu12-12.4.127-py3-none-manylinux2014_x86_64.whl (13.8 MB)\n",
            "\u001b[2K   \u001b[90m━━━━━━━━━━━━━━━━━━━━━━━━━━━━━━━━━━━━━━━━\u001b[0m \u001b[32m13.8/13.8 MB\u001b[0m \u001b[31m41.1 MB/s\u001b[0m eta \u001b[36m0:00:00\u001b[0m\n",
            "\u001b[?25hDownloading nvidia_cuda_nvrtc_cu12-12.4.127-py3-none-manylinux2014_x86_64.whl (24.6 MB)\n",
            "\u001b[2K   \u001b[90m━━━━━━━━━━━━━━━━━━━━━━━━━━━━━━━━━━━━━━━━\u001b[0m \u001b[32m24.6/24.6 MB\u001b[0m \u001b[31m38.9 MB/s\u001b[0m eta \u001b[36m0:00:00\u001b[0m\n",
            "\u001b[?25hDownloading nvidia_cuda_runtime_cu12-12.4.127-py3-none-manylinux2014_x86_64.whl (883 kB)\n",
            "\u001b[2K   \u001b[90m━━━━━━━━━━━━━━━━━━━━━━━━━━━━━━━━━━━━━━━━\u001b[0m \u001b[32m883.7/883.7 kB\u001b[0m \u001b[31m27.8 MB/s\u001b[0m eta \u001b[36m0:00:00\u001b[0m\n",
            "\u001b[?25hDownloading nvidia_cudnn_cu12-9.1.0.70-py3-none-manylinux2014_x86_64.whl (664.8 MB)\n",
            "\u001b[2K   \u001b[90m━━━━━━━━━━━━━━━━━━━━━━━━━━━━━━━━━━━━━━━━\u001b[0m \u001b[32m664.8/664.8 MB\u001b[0m \u001b[31m2.2 MB/s\u001b[0m eta \u001b[36m0:00:00\u001b[0m\n",
            "\u001b[?25hDownloading nvidia_cufft_cu12-11.2.1.3-py3-none-manylinux2014_x86_64.whl (211.5 MB)\n",
            "\u001b[2K   \u001b[90m━━━━━━━━━━━━━━━━━━━━━━━━━━━━━━━━━━━━━━━━\u001b[0m \u001b[32m211.5/211.5 MB\u001b[0m \u001b[31m7.5 MB/s\u001b[0m eta \u001b[36m0:00:00\u001b[0m\n",
            "\u001b[?25hDownloading nvidia_curand_cu12-10.3.5.147-py3-none-manylinux2014_x86_64.whl (56.3 MB)\n",
            "\u001b[2K   \u001b[90m━━━━━━━━━━━━━━━━━━━━━━━━━━━━━━━━━━━━━━━━\u001b[0m \u001b[32m56.3/56.3 MB\u001b[0m \u001b[31m9.3 MB/s\u001b[0m eta \u001b[36m0:00:00\u001b[0m\n",
            "\u001b[?25hDownloading nvidia_cusolver_cu12-11.6.1.9-py3-none-manylinux2014_x86_64.whl (127.9 MB)\n",
            "\u001b[2K   \u001b[90m━━━━━━━━━━━━━━━━━━━━━━━━━━━━━━━━━━━━━━━━\u001b[0m \u001b[32m127.9/127.9 MB\u001b[0m \u001b[31m8.3 MB/s\u001b[0m eta \u001b[36m0:00:00\u001b[0m\n",
            "\u001b[?25hDownloading nvidia_cusparse_cu12-12.3.1.170-py3-none-manylinux2014_x86_64.whl (207.5 MB)\n",
            "\u001b[2K   \u001b[90m━━━━━━━━━━━━━━━━━━━━━━━━━━━━━━━━━━━━━━━━\u001b[0m \u001b[32m207.5/207.5 MB\u001b[0m \u001b[31m7.4 MB/s\u001b[0m eta \u001b[36m0:00:00\u001b[0m\n",
            "\u001b[?25hDownloading nvidia_nvjitlink_cu12-12.4.127-py3-none-manylinux2014_x86_64.whl (21.1 MB)\n",
            "\u001b[2K   \u001b[90m━━━━━━━━━━━━━━━━━━━━━━━━━━━━━━━━━━━━━━━━\u001b[0m \u001b[32m21.1/21.1 MB\u001b[0m \u001b[31m35.0 MB/s\u001b[0m eta \u001b[36m0:00:00\u001b[0m\n",
            "\u001b[?25hDownloading ultralytics_thop-2.0.14-py3-none-any.whl (26 kB)\n",
            "Installing collected packages: nvidia-nvjitlink-cu12, nvidia-curand-cu12, nvidia-cufft-cu12, nvidia-cuda-runtime-cu12, nvidia-cuda-nvrtc-cu12, nvidia-cuda-cupti-cu12, nvidia-cublas-cu12, nvidia-cusparse-cu12, nvidia-cudnn-cu12, nvidia-cusolver-cu12, ultralytics-thop, ultralytics\n",
            "  Attempting uninstall: nvidia-nvjitlink-cu12\n",
            "    Found existing installation: nvidia-nvjitlink-cu12 12.5.82\n",
            "    Uninstalling nvidia-nvjitlink-cu12-12.5.82:\n",
            "      Successfully uninstalled nvidia-nvjitlink-cu12-12.5.82\n",
            "  Attempting uninstall: nvidia-curand-cu12\n",
            "    Found existing installation: nvidia-curand-cu12 10.3.6.82\n",
            "    Uninstalling nvidia-curand-cu12-10.3.6.82:\n",
            "      Successfully uninstalled nvidia-curand-cu12-10.3.6.82\n",
            "  Attempting uninstall: nvidia-cufft-cu12\n",
            "    Found existing installation: nvidia-cufft-cu12 11.2.3.61\n",
            "    Uninstalling nvidia-cufft-cu12-11.2.3.61:\n",
            "      Successfully uninstalled nvidia-cufft-cu12-11.2.3.61\n",
            "  Attempting uninstall: nvidia-cuda-runtime-cu12\n",
            "    Found existing installation: nvidia-cuda-runtime-cu12 12.5.82\n",
            "    Uninstalling nvidia-cuda-runtime-cu12-12.5.82:\n",
            "      Successfully uninstalled nvidia-cuda-runtime-cu12-12.5.82\n",
            "  Attempting uninstall: nvidia-cuda-nvrtc-cu12\n",
            "    Found existing installation: nvidia-cuda-nvrtc-cu12 12.5.82\n",
            "    Uninstalling nvidia-cuda-nvrtc-cu12-12.5.82:\n",
            "      Successfully uninstalled nvidia-cuda-nvrtc-cu12-12.5.82\n",
            "  Attempting uninstall: nvidia-cuda-cupti-cu12\n",
            "    Found existing installation: nvidia-cuda-cupti-cu12 12.5.82\n",
            "    Uninstalling nvidia-cuda-cupti-cu12-12.5.82:\n",
            "      Successfully uninstalled nvidia-cuda-cupti-cu12-12.5.82\n",
            "  Attempting uninstall: nvidia-cublas-cu12\n",
            "    Found existing installation: nvidia-cublas-cu12 12.5.3.2\n",
            "    Uninstalling nvidia-cublas-cu12-12.5.3.2:\n",
            "      Successfully uninstalled nvidia-cublas-cu12-12.5.3.2\n",
            "  Attempting uninstall: nvidia-cusparse-cu12\n",
            "    Found existing installation: nvidia-cusparse-cu12 12.5.1.3\n",
            "    Uninstalling nvidia-cusparse-cu12-12.5.1.3:\n",
            "      Successfully uninstalled nvidia-cusparse-cu12-12.5.1.3\n",
            "  Attempting uninstall: nvidia-cudnn-cu12\n",
            "    Found existing installation: nvidia-cudnn-cu12 9.3.0.75\n",
            "    Uninstalling nvidia-cudnn-cu12-9.3.0.75:\n",
            "      Successfully uninstalled nvidia-cudnn-cu12-9.3.0.75\n",
            "  Attempting uninstall: nvidia-cusolver-cu12\n",
            "    Found existing installation: nvidia-cusolver-cu12 11.6.3.83\n",
            "    Uninstalling nvidia-cusolver-cu12-11.6.3.83:\n",
            "      Successfully uninstalled nvidia-cusolver-cu12-11.6.3.83\n",
            "Successfully installed nvidia-cublas-cu12-12.4.5.8 nvidia-cuda-cupti-cu12-12.4.127 nvidia-cuda-nvrtc-cu12-12.4.127 nvidia-cuda-runtime-cu12-12.4.127 nvidia-cudnn-cu12-9.1.0.70 nvidia-cufft-cu12-11.2.1.3 nvidia-curand-cu12-10.3.5.147 nvidia-cusolver-cu12-11.6.1.9 nvidia-cusparse-cu12-12.3.1.170 nvidia-nvjitlink-cu12-12.4.127 ultralytics-8.3.149 ultralytics-thop-2.0.14\n"
          ]
        }
      ]
    },
    {
      "cell_type": "code",
      "source": [
        "# Import des bibliothèques nécessaires\n",
        "from ultralytics import YOLO\n",
        "import os\n"
      ],
      "metadata": {
        "colab": {
          "base_uri": "https://localhost:8080/"
        },
        "id": "hinhF3mq83gn",
        "outputId": "1a1209da-5fde-431f-9794-7ec2ccef32de"
      },
      "execution_count": 2,
      "outputs": [
        {
          "output_type": "stream",
          "name": "stdout",
          "text": [
            "Creating new Ultralytics Settings v0.0.6 file ✅ \n",
            "View Ultralytics Settings with 'yolo settings' or at '/root/.config/Ultralytics/settings.json'\n",
            "Update Settings with 'yolo settings key=value', i.e. 'yolo settings runs_dir=path/to/dir'. For help see https://docs.ultralytics.com/quickstart/#ultralytics-settings.\n"
          ]
        }
      ]
    },
    {
      "cell_type": "markdown",
      "source": [
        "## Configuration du dataset\n",
        "\n",
        "Nous allons utiliser le dataset déjà préparé dans le dossier `data/train_version_YOLO_V8`\n"
      ],
      "metadata": {
        "id": "Hlt96kxZ8_9V"
      }
    },
    {
      "cell_type": "code",
      "source": [
        "# D'abord je décompresse  mon dossier zip\n",
        "!unzip Scan-Trad-project.zip"
      ],
      "metadata": {
        "colab": {
          "base_uri": "https://localhost:8080/"
        },
        "id": "qzWGtRfID98b",
        "outputId": "7e37b2eb-11cf-4de8-f0a0-18e426c7a647"
      },
      "execution_count": 3,
      "outputs": [
        {
          "output_type": "stream",
          "name": "stdout",
          "text": [
            "Archive:  Scan-Trad-project.zip\n",
            "   creating: Scan-Trad-project/\n",
            "   creating: Scan-Trad-project/.git/\n",
            "  inflating: Scan-Trad-project/.git/config  \n",
            "  inflating: Scan-Trad-project/.git/description  \n",
            "  inflating: Scan-Trad-project/.git/FETCH_HEAD  \n",
            "  inflating: Scan-Trad-project/.git/HEAD  \n",
            "   creating: Scan-Trad-project/.git/hooks/\n",
            "  inflating: Scan-Trad-project/.git/hooks/applypatch-msg.sample  \n",
            "  inflating: Scan-Trad-project/.git/hooks/commit-msg.sample  \n",
            "  inflating: Scan-Trad-project/.git/hooks/fsmonitor-watchman.sample  \n",
            "  inflating: Scan-Trad-project/.git/hooks/post-update.sample  \n",
            "  inflating: Scan-Trad-project/.git/hooks/pre-applypatch.sample  \n",
            "  inflating: Scan-Trad-project/.git/hooks/pre-commit.sample  \n",
            "  inflating: Scan-Trad-project/.git/hooks/pre-merge-commit.sample  \n",
            "  inflating: Scan-Trad-project/.git/hooks/pre-push.sample  \n",
            "  inflating: Scan-Trad-project/.git/hooks/pre-rebase.sample  \n",
            "  inflating: Scan-Trad-project/.git/hooks/pre-receive.sample  \n",
            "  inflating: Scan-Trad-project/.git/hooks/prepare-commit-msg.sample  \n",
            "  inflating: Scan-Trad-project/.git/hooks/push-to-checkout.sample  \n",
            "  inflating: Scan-Trad-project/.git/hooks/sendemail-validate.sample  \n",
            "  inflating: Scan-Trad-project/.git/hooks/update.sample  \n",
            "  inflating: Scan-Trad-project/.git/index  \n",
            "   creating: Scan-Trad-project/.git/info/\n",
            "  inflating: Scan-Trad-project/.git/info/exclude  \n",
            "   creating: Scan-Trad-project/.git/logs/\n",
            "  inflating: Scan-Trad-project/.git/logs/HEAD  \n",
            "   creating: Scan-Trad-project/.git/logs/refs/\n",
            "   creating: Scan-Trad-project/.git/logs/refs/heads/\n",
            "  inflating: Scan-Trad-project/.git/logs/refs/heads/master  \n",
            "  inflating: Scan-Trad-project/.git/logs/refs/heads/yolo  \n",
            "   creating: Scan-Trad-project/.git/logs/refs/remotes/\n",
            "   creating: Scan-Trad-project/.git/logs/refs/remotes/origin/\n",
            "  inflating: Scan-Trad-project/.git/logs/refs/remotes/origin/HEAD  \n",
            "  inflating: Scan-Trad-project/.git/logs/refs/remotes/origin/master  \n",
            "  inflating: Scan-Trad-project/.git/logs/refs/remotes/origin/transformer  \n",
            "   creating: Scan-Trad-project/.git/objects/\n",
            "   creating: Scan-Trad-project/.git/objects/15/\n",
            "  inflating: Scan-Trad-project/.git/objects/15/4dfeeed6e999e1bb289b9944115735129ecd6e  \n",
            "   creating: Scan-Trad-project/.git/objects/74/\n",
            "  inflating: Scan-Trad-project/.git/objects/74/696c0a4ddbd93bb0fc0439fb21c6f529567164  \n",
            "   creating: Scan-Trad-project/.git/objects/88/\n",
            "  inflating: Scan-Trad-project/.git/objects/88/bdc694faaca5e22f09b555b64013a0b39d2040  \n",
            "   creating: Scan-Trad-project/.git/objects/9d/\n",
            "  inflating: Scan-Trad-project/.git/objects/9d/3955b07a670cb6d440d74452262054dae8b934  \n",
            "   creating: Scan-Trad-project/.git/objects/b6/\n",
            "  inflating: Scan-Trad-project/.git/objects/b6/0cac0cbeaac900225b559bd8c40059220aaa5f  \n",
            "   creating: Scan-Trad-project/.git/objects/ba/\n",
            "  inflating: Scan-Trad-project/.git/objects/ba/d092ba74a8e3dbe070aea25d1a2d43d084f60b  \n",
            "   creating: Scan-Trad-project/.git/objects/d1/\n",
            "  inflating: Scan-Trad-project/.git/objects/d1/7baa11c8efc1de399ba7f62c73343fc3341b00  \n",
            "   creating: Scan-Trad-project/.git/objects/e0/\n",
            "  inflating: Scan-Trad-project/.git/objects/e0/92fca1408d9f16847023ccb36d9f71482190ac  \n",
            "   creating: Scan-Trad-project/.git/objects/info/\n",
            "   creating: Scan-Trad-project/.git/objects/pack/\n",
            "  inflating: Scan-Trad-project/.git/objects/pack/pack-384e69d27bf76627fd949ff360bf07b4505f2896.idx  \n",
            "  inflating: Scan-Trad-project/.git/objects/pack/pack-384e69d27bf76627fd949ff360bf07b4505f2896.pack  \n",
            "  inflating: Scan-Trad-project/.git/objects/pack/pack-384e69d27bf76627fd949ff360bf07b4505f2896.rev  \n",
            "  inflating: Scan-Trad-project/.git/objects/pack/pack-8e897c92092739c08daf88d1a88e6ac4a1d916ca.idx  \n",
            "  inflating: Scan-Trad-project/.git/objects/pack/pack-8e897c92092739c08daf88d1a88e6ac4a1d916ca.pack  \n",
            "  inflating: Scan-Trad-project/.git/objects/pack/pack-8e897c92092739c08daf88d1a88e6ac4a1d916ca.rev  \n",
            "  inflating: Scan-Trad-project/.git/ORIG_HEAD  \n",
            "  inflating: Scan-Trad-project/.git/packed-refs  \n",
            "   creating: Scan-Trad-project/.git/refs/\n",
            "   creating: Scan-Trad-project/.git/refs/heads/\n",
            "  inflating: Scan-Trad-project/.git/refs/heads/master  \n",
            "  inflating: Scan-Trad-project/.git/refs/heads/yolo  \n",
            "   creating: Scan-Trad-project/.git/refs/remotes/\n",
            "   creating: Scan-Trad-project/.git/refs/remotes/origin/\n",
            "  inflating: Scan-Trad-project/.git/refs/remotes/origin/HEAD  \n",
            "  inflating: Scan-Trad-project/.git/refs/remotes/origin/master  \n",
            "  inflating: Scan-Trad-project/.git/refs/remotes/origin/transformer  \n",
            "   creating: Scan-Trad-project/.git/refs/tags/\n",
            "   creating: Scan-Trad-project/data/\n",
            "   creating: Scan-Trad-project/data/autres_image/\n",
            "  inflating: Scan-Trad-project/data/autres_image/mg_1.jpg  \n",
            "  inflating: Scan-Trad-project/data/autres_image/mg_10.jpg  \n",
            "  inflating: Scan-Trad-project/data/autres_image/mg_100.jpg  \n",
            "  inflating: Scan-Trad-project/data/autres_image/mg_101.jpg  \n",
            "  inflating: Scan-Trad-project/data/autres_image/mg_102.jpg  \n",
            "  inflating: Scan-Trad-project/data/autres_image/mg_103.jpg  \n",
            "  inflating: Scan-Trad-project/data/autres_image/mg_104.jpg  \n",
            "  inflating: Scan-Trad-project/data/autres_image/mg_105.jpg  \n",
            "  inflating: Scan-Trad-project/data/autres_image/mg_106.jpg  \n",
            "  inflating: Scan-Trad-project/data/autres_image/mg_107.jpg  \n",
            "  inflating: Scan-Trad-project/data/autres_image/mg_108.jpg  \n",
            "  inflating: Scan-Trad-project/data/autres_image/mg_109.jpg  \n",
            "  inflating: Scan-Trad-project/data/autres_image/mg_11.jpg  \n",
            "  inflating: Scan-Trad-project/data/autres_image/mg_110.jpg  \n",
            "  inflating: Scan-Trad-project/data/autres_image/mg_111.jpg  \n",
            "  inflating: Scan-Trad-project/data/autres_image/mg_112.jpg  \n",
            "  inflating: Scan-Trad-project/data/autres_image/mg_113.jpg  \n",
            "  inflating: Scan-Trad-project/data/autres_image/mg_114.jpg  \n",
            "  inflating: Scan-Trad-project/data/autres_image/mg_115.jpg  \n",
            "  inflating: Scan-Trad-project/data/autres_image/mg_116.jpg  \n",
            "  inflating: Scan-Trad-project/data/autres_image/mg_117.jpg  \n",
            "  inflating: Scan-Trad-project/data/autres_image/mg_118.jpg  \n",
            "  inflating: Scan-Trad-project/data/autres_image/mg_119.jpg  \n",
            "  inflating: Scan-Trad-project/data/autres_image/mg_12.jpg  \n",
            "  inflating: Scan-Trad-project/data/autres_image/mg_120.jpg  \n",
            "  inflating: Scan-Trad-project/data/autres_image/mg_121.jpg  \n",
            "  inflating: Scan-Trad-project/data/autres_image/mg_13.jpg  \n",
            "  inflating: Scan-Trad-project/data/autres_image/mg_14.jpg  \n",
            "  inflating: Scan-Trad-project/data/autres_image/mg_15.jpg  \n",
            "  inflating: Scan-Trad-project/data/autres_image/mg_16.jpg  \n",
            "  inflating: Scan-Trad-project/data/autres_image/mg_17.jpg  \n",
            "  inflating: Scan-Trad-project/data/autres_image/mg_18.jpg  \n",
            "  inflating: Scan-Trad-project/data/autres_image/mg_19.jpg  \n",
            "  inflating: Scan-Trad-project/data/autres_image/mg_2.jpg  \n",
            "  inflating: Scan-Trad-project/data/autres_image/mg_20.jpg  \n",
            "  inflating: Scan-Trad-project/data/autres_image/mg_21.jpg  \n",
            "  inflating: Scan-Trad-project/data/autres_image/mg_22.jpg  \n",
            "  inflating: Scan-Trad-project/data/autres_image/mg_23.jpg  \n",
            "  inflating: Scan-Trad-project/data/autres_image/mg_24.jpg  \n",
            "  inflating: Scan-Trad-project/data/autres_image/mg_25.jpg  \n",
            "  inflating: Scan-Trad-project/data/autres_image/mg_26.jpg  \n",
            "  inflating: Scan-Trad-project/data/autres_image/mg_27.jpg  \n",
            "  inflating: Scan-Trad-project/data/autres_image/mg_28.jpg  \n",
            "  inflating: Scan-Trad-project/data/autres_image/mg_29.jpg  \n",
            "  inflating: Scan-Trad-project/data/autres_image/mg_3.jpg  \n",
            "  inflating: Scan-Trad-project/data/autres_image/mg_30.jpg  \n",
            "  inflating: Scan-Trad-project/data/autres_image/mg_31.jpg  \n",
            "  inflating: Scan-Trad-project/data/autres_image/mg_32.jpg  \n",
            "  inflating: Scan-Trad-project/data/autres_image/mg_33.jpg  \n",
            "  inflating: Scan-Trad-project/data/autres_image/mg_34.jpg  \n",
            "  inflating: Scan-Trad-project/data/autres_image/mg_35.jpg  \n",
            "  inflating: Scan-Trad-project/data/autres_image/mg_36.jpg  \n",
            "  inflating: Scan-Trad-project/data/autres_image/mg_37.jpg  \n",
            "  inflating: Scan-Trad-project/data/autres_image/mg_38.jpg  \n",
            "  inflating: Scan-Trad-project/data/autres_image/mg_39.jpg  \n",
            "  inflating: Scan-Trad-project/data/autres_image/mg_4.jpg  \n",
            "  inflating: Scan-Trad-project/data/autres_image/mg_40.jpg  \n",
            "  inflating: Scan-Trad-project/data/autres_image/mg_41.jpg  \n",
            "  inflating: Scan-Trad-project/data/autres_image/mg_42.jpg  \n",
            "  inflating: Scan-Trad-project/data/autres_image/mg_43.jpg  \n",
            "  inflating: Scan-Trad-project/data/autres_image/mg_44.jpg  \n",
            "  inflating: Scan-Trad-project/data/autres_image/mg_45.jpg  \n",
            "  inflating: Scan-Trad-project/data/autres_image/mg_46.jpg  \n",
            "  inflating: Scan-Trad-project/data/autres_image/mg_47.jpg  \n",
            "  inflating: Scan-Trad-project/data/autres_image/mg_48.jpg  \n",
            "  inflating: Scan-Trad-project/data/autres_image/mg_49.jpg  \n",
            "  inflating: Scan-Trad-project/data/autres_image/mg_5.jpg  \n",
            "  inflating: Scan-Trad-project/data/autres_image/mg_50.jpg  \n",
            "  inflating: Scan-Trad-project/data/autres_image/mg_51.jpg  \n",
            "  inflating: Scan-Trad-project/data/autres_image/mg_52.jpg  \n",
            "  inflating: Scan-Trad-project/data/autres_image/mg_53.jpg  \n",
            "  inflating: Scan-Trad-project/data/autres_image/mg_54.jpg  \n",
            "  inflating: Scan-Trad-project/data/autres_image/mg_55.jpg  \n",
            "  inflating: Scan-Trad-project/data/autres_image/mg_56.jpg  \n",
            "  inflating: Scan-Trad-project/data/autres_image/mg_57.jpg  \n",
            "  inflating: Scan-Trad-project/data/autres_image/mg_58.jpg  \n",
            "  inflating: Scan-Trad-project/data/autres_image/mg_59.jpg  \n",
            "  inflating: Scan-Trad-project/data/autres_image/mg_6.jpg  \n",
            "  inflating: Scan-Trad-project/data/autres_image/mg_60.jpg  \n",
            "  inflating: Scan-Trad-project/data/autres_image/mg_61.jpg  \n",
            "  inflating: Scan-Trad-project/data/autres_image/mg_62.jpg  \n",
            "  inflating: Scan-Trad-project/data/autres_image/mg_63.jpg  \n",
            "  inflating: Scan-Trad-project/data/autres_image/mg_64.jpg  \n",
            "  inflating: Scan-Trad-project/data/autres_image/mg_65.jpg  \n",
            "  inflating: Scan-Trad-project/data/autres_image/mg_66.jpg  \n",
            "  inflating: Scan-Trad-project/data/autres_image/mg_67.jpg  \n",
            "  inflating: Scan-Trad-project/data/autres_image/mg_68.jpg  \n",
            "  inflating: Scan-Trad-project/data/autres_image/mg_69.jpg  \n",
            "  inflating: Scan-Trad-project/data/autres_image/mg_7.jpg  \n",
            "  inflating: Scan-Trad-project/data/autres_image/mg_70.jpg  \n",
            "  inflating: Scan-Trad-project/data/autres_image/mg_71.jpg  \n",
            "  inflating: Scan-Trad-project/data/autres_image/mg_72.jpg  \n",
            "  inflating: Scan-Trad-project/data/autres_image/mg_73.jpg  \n",
            "  inflating: Scan-Trad-project/data/autres_image/mg_74.jpg  \n",
            "  inflating: Scan-Trad-project/data/autres_image/mg_75.jpg  \n",
            "  inflating: Scan-Trad-project/data/autres_image/mg_76.jpg  \n",
            "  inflating: Scan-Trad-project/data/autres_image/mg_77.jpg  \n",
            "  inflating: Scan-Trad-project/data/autres_image/mg_78.jpg  \n",
            "  inflating: Scan-Trad-project/data/autres_image/mg_79.jpg  \n",
            "  inflating: Scan-Trad-project/data/autres_image/mg_8.jpg  \n",
            "  inflating: Scan-Trad-project/data/autres_image/mg_80.jpg  \n",
            "  inflating: Scan-Trad-project/data/autres_image/mg_81.jpg  \n",
            "  inflating: Scan-Trad-project/data/autres_image/mg_83.jpg  \n",
            "  inflating: Scan-Trad-project/data/autres_image/mg_84.jpg  \n",
            "  inflating: Scan-Trad-project/data/autres_image/mg_85.jpg  \n",
            "  inflating: Scan-Trad-project/data/autres_image/mg_86.jpg  \n",
            "  inflating: Scan-Trad-project/data/autres_image/mg_87.jpg  \n",
            "  inflating: Scan-Trad-project/data/autres_image/mg_88.jpg  \n",
            "  inflating: Scan-Trad-project/data/autres_image/mg_89.jpg  \n",
            "  inflating: Scan-Trad-project/data/autres_image/mg_9.jpg  \n",
            "  inflating: Scan-Trad-project/data/autres_image/mg_90.jpg  \n",
            "  inflating: Scan-Trad-project/data/autres_image/mg_91.jpg  \n",
            "  inflating: Scan-Trad-project/data/autres_image/mg_92.jpg  \n",
            "  inflating: Scan-Trad-project/data/autres_image/mg_93.jpg  \n",
            "  inflating: Scan-Trad-project/data/autres_image/mg_94.jpg  \n",
            "  inflating: Scan-Trad-project/data/autres_image/mg_95.jpg  \n",
            "  inflating: Scan-Trad-project/data/autres_image/mg_96.jpg  \n",
            "  inflating: Scan-Trad-project/data/autres_image/mg_97.jpg  \n",
            "  inflating: Scan-Trad-project/data/autres_image/mg_98.jpg  \n",
            "  inflating: Scan-Trad-project/data/autres_image/mg_99.jpg  \n",
            "   creating: Scan-Trad-project/data/Demon_Slayer/\n",
            "  inflating: Scan-Trad-project/data/Demon_Slayer/DS_1.jpg  \n",
            "  inflating: Scan-Trad-project/data/Demon_Slayer/DS_10.jpg  \n",
            "  inflating: Scan-Trad-project/data/Demon_Slayer/DS_100.jpg  \n",
            "  inflating: Scan-Trad-project/data/Demon_Slayer/DS_11.jpg  \n",
            "  inflating: Scan-Trad-project/data/Demon_Slayer/DS_12.jpg  \n",
            "  inflating: Scan-Trad-project/data/Demon_Slayer/DS_13.jpg  \n",
            "  inflating: Scan-Trad-project/data/Demon_Slayer/DS_14.jpg  \n",
            "  inflating: Scan-Trad-project/data/Demon_Slayer/DS_15.jpg  \n",
            "  inflating: Scan-Trad-project/data/Demon_Slayer/DS_16.jpg  \n",
            "  inflating: Scan-Trad-project/data/Demon_Slayer/DS_17.jpg  \n",
            "  inflating: Scan-Trad-project/data/Demon_Slayer/DS_18.jpg  \n",
            "  inflating: Scan-Trad-project/data/Demon_Slayer/DS_19.jpg  \n",
            "  inflating: Scan-Trad-project/data/Demon_Slayer/DS_2.jpg  \n",
            "  inflating: Scan-Trad-project/data/Demon_Slayer/DS_20.jpg  \n",
            "  inflating: Scan-Trad-project/data/Demon_Slayer/DS_21.jpg  \n",
            "  inflating: Scan-Trad-project/data/Demon_Slayer/DS_22.jpg  \n",
            "  inflating: Scan-Trad-project/data/Demon_Slayer/DS_23.jpg  \n",
            "  inflating: Scan-Trad-project/data/Demon_Slayer/DS_24.jpg  \n",
            "  inflating: Scan-Trad-project/data/Demon_Slayer/DS_25.jpg  \n",
            "  inflating: Scan-Trad-project/data/Demon_Slayer/DS_26.jpg  \n",
            "  inflating: Scan-Trad-project/data/Demon_Slayer/DS_27.jpg  \n",
            "  inflating: Scan-Trad-project/data/Demon_Slayer/DS_28.jpg  \n",
            "  inflating: Scan-Trad-project/data/Demon_Slayer/DS_29.jpg  \n",
            "  inflating: Scan-Trad-project/data/Demon_Slayer/DS_3.jpg  \n",
            "  inflating: Scan-Trad-project/data/Demon_Slayer/DS_30.jpg  \n",
            "  inflating: Scan-Trad-project/data/Demon_Slayer/DS_31.jpg  \n",
            "  inflating: Scan-Trad-project/data/Demon_Slayer/DS_32.jpg  \n",
            "  inflating: Scan-Trad-project/data/Demon_Slayer/DS_33.jpg  \n",
            "  inflating: Scan-Trad-project/data/Demon_Slayer/DS_34.jpg  \n",
            "  inflating: Scan-Trad-project/data/Demon_Slayer/DS_35.jpg  \n",
            "  inflating: Scan-Trad-project/data/Demon_Slayer/DS_36.jpg  \n",
            "  inflating: Scan-Trad-project/data/Demon_Slayer/DS_37.jpg  \n",
            "  inflating: Scan-Trad-project/data/Demon_Slayer/DS_38.jpg  \n",
            "  inflating: Scan-Trad-project/data/Demon_Slayer/DS_39.jpg  \n",
            "  inflating: Scan-Trad-project/data/Demon_Slayer/DS_4.jpg  \n",
            "  inflating: Scan-Trad-project/data/Demon_Slayer/DS_40.jpg  \n",
            "  inflating: Scan-Trad-project/data/Demon_Slayer/DS_41.jpg  \n",
            "  inflating: Scan-Trad-project/data/Demon_Slayer/DS_42.jpg  \n",
            "  inflating: Scan-Trad-project/data/Demon_Slayer/DS_43.jpg  \n",
            "  inflating: Scan-Trad-project/data/Demon_Slayer/DS_44.jpg  \n",
            "  inflating: Scan-Trad-project/data/Demon_Slayer/DS_45.jpg  \n",
            "  inflating: Scan-Trad-project/data/Demon_Slayer/DS_46.jpg  \n",
            "  inflating: Scan-Trad-project/data/Demon_Slayer/DS_47.jpg  \n",
            "  inflating: Scan-Trad-project/data/Demon_Slayer/DS_48.jpg  \n",
            "  inflating: Scan-Trad-project/data/Demon_Slayer/DS_49.jpg  \n",
            "  inflating: Scan-Trad-project/data/Demon_Slayer/DS_5.jpg  \n",
            "  inflating: Scan-Trad-project/data/Demon_Slayer/DS_50.jpg  \n",
            "  inflating: Scan-Trad-project/data/Demon_Slayer/DS_51.jpg  \n",
            "  inflating: Scan-Trad-project/data/Demon_Slayer/DS_52.jpg  \n",
            "  inflating: Scan-Trad-project/data/Demon_Slayer/DS_53.jpg  \n",
            "  inflating: Scan-Trad-project/data/Demon_Slayer/DS_54.jpg  \n",
            "  inflating: Scan-Trad-project/data/Demon_Slayer/DS_55.jpg  \n",
            "  inflating: Scan-Trad-project/data/Demon_Slayer/DS_56.jpg  \n",
            "  inflating: Scan-Trad-project/data/Demon_Slayer/DS_57.jpg  \n",
            "  inflating: Scan-Trad-project/data/Demon_Slayer/DS_58.jpg  \n",
            "  inflating: Scan-Trad-project/data/Demon_Slayer/DS_59.jpg  \n",
            "  inflating: Scan-Trad-project/data/Demon_Slayer/DS_6.jpg  \n",
            "  inflating: Scan-Trad-project/data/Demon_Slayer/DS_60.jpg  \n",
            "  inflating: Scan-Trad-project/data/Demon_Slayer/DS_61.jpg  \n",
            "  inflating: Scan-Trad-project/data/Demon_Slayer/DS_62.jpg  \n",
            "  inflating: Scan-Trad-project/data/Demon_Slayer/DS_63.jpg  \n",
            "  inflating: Scan-Trad-project/data/Demon_Slayer/DS_64.jpg  \n",
            "  inflating: Scan-Trad-project/data/Demon_Slayer/DS_65.jpg  \n",
            "  inflating: Scan-Trad-project/data/Demon_Slayer/DS_66.jpg  \n",
            "  inflating: Scan-Trad-project/data/Demon_Slayer/DS_67.jpg  \n",
            "  inflating: Scan-Trad-project/data/Demon_Slayer/DS_68.jpg  \n",
            "  inflating: Scan-Trad-project/data/Demon_Slayer/DS_69.jpg  \n",
            "  inflating: Scan-Trad-project/data/Demon_Slayer/DS_7.jpg  \n",
            "  inflating: Scan-Trad-project/data/Demon_Slayer/DS_70.jpg  \n",
            "  inflating: Scan-Trad-project/data/Demon_Slayer/DS_71.jpg  \n",
            "  inflating: Scan-Trad-project/data/Demon_Slayer/DS_72.jpg  \n",
            "  inflating: Scan-Trad-project/data/Demon_Slayer/DS_73.jpg  \n",
            "  inflating: Scan-Trad-project/data/Demon_Slayer/DS_74.jpg  \n",
            "  inflating: Scan-Trad-project/data/Demon_Slayer/DS_75.jpg  \n",
            "  inflating: Scan-Trad-project/data/Demon_Slayer/DS_76.jpg  \n",
            "  inflating: Scan-Trad-project/data/Demon_Slayer/DS_77.jpg  \n",
            "  inflating: Scan-Trad-project/data/Demon_Slayer/DS_78.jpg  \n",
            "  inflating: Scan-Trad-project/data/Demon_Slayer/DS_79.jpg  \n",
            "  inflating: Scan-Trad-project/data/Demon_Slayer/DS_8.jpg  \n",
            "  inflating: Scan-Trad-project/data/Demon_Slayer/DS_80.jpg  \n",
            "  inflating: Scan-Trad-project/data/Demon_Slayer/DS_81.jpg  \n",
            "  inflating: Scan-Trad-project/data/Demon_Slayer/DS_82.jpg  \n",
            "  inflating: Scan-Trad-project/data/Demon_Slayer/DS_83.jpg  \n",
            "  inflating: Scan-Trad-project/data/Demon_Slayer/DS_84.jpg  \n",
            "  inflating: Scan-Trad-project/data/Demon_Slayer/DS_85.jpg  \n",
            "  inflating: Scan-Trad-project/data/Demon_Slayer/DS_86.jpg  \n",
            "  inflating: Scan-Trad-project/data/Demon_Slayer/DS_87.jpg  \n",
            "  inflating: Scan-Trad-project/data/Demon_Slayer/DS_88.jpg  \n",
            "  inflating: Scan-Trad-project/data/Demon_Slayer/DS_89.jpg  \n",
            "  inflating: Scan-Trad-project/data/Demon_Slayer/DS_9.jpg  \n",
            "  inflating: Scan-Trad-project/data/Demon_Slayer/DS_90.jpg  \n",
            "  inflating: Scan-Trad-project/data/Demon_Slayer/DS_91.jpg  \n",
            "  inflating: Scan-Trad-project/data/Demon_Slayer/DS_92.jpg  \n",
            "  inflating: Scan-Trad-project/data/Demon_Slayer/DS_93.jpg  \n",
            "  inflating: Scan-Trad-project/data/Demon_Slayer/DS_94.jpg  \n",
            "  inflating: Scan-Trad-project/data/Demon_Slayer/DS_95.jpg  \n",
            "  inflating: Scan-Trad-project/data/Demon_Slayer/DS_96.jpg  \n",
            "  inflating: Scan-Trad-project/data/Demon_Slayer/DS_97.jpg  \n",
            "  inflating: Scan-Trad-project/data/Demon_Slayer/DS_98.jpg  \n",
            "  inflating: Scan-Trad-project/data/Demon_Slayer/DS_99.jpg  \n",
            "   creating: Scan-Trad-project/data/train_version_YOLO_V8/\n",
            "   creating: Scan-Trad-project/data/train_version_YOLO_V8/images/\n",
            "  inflating: Scan-Trad-project/data/train_version_YOLO_V8/images/DS_100_jpg.rf.f4aa7b39cf6ec62c4b8de2fd066c3a4b.jpg  \n",
            "  inflating: Scan-Trad-project/data/train_version_YOLO_V8/images/DS_10_jpg.rf.563903d03682357168d593bd82244a83.jpg  \n",
            "  inflating: Scan-Trad-project/data/train_version_YOLO_V8/images/DS_11_jpg.rf.7dea8b7e0a5f3623f8c68550a201d943.jpg  \n",
            "  inflating: Scan-Trad-project/data/train_version_YOLO_V8/images/DS_12_jpg.rf.3dc2fefe9f031e68f4d73e3a0cb82287.jpg  \n",
            "  inflating: Scan-Trad-project/data/train_version_YOLO_V8/images/DS_13_jpg.rf.05bb434a4c4042cc05b67fcf5c67d48b.jpg  \n",
            "  inflating: Scan-Trad-project/data/train_version_YOLO_V8/images/DS_14_jpg.rf.15c44f620f6fe42eceb9c9dc62cbd9e5.jpg  \n",
            "  inflating: Scan-Trad-project/data/train_version_YOLO_V8/images/DS_15_jpg.rf.9e40f3d81e07fc83428afd6ed1a0e882.jpg  \n",
            "  inflating: Scan-Trad-project/data/train_version_YOLO_V8/images/DS_16_jpg.rf.4bb26fbd9826b09afa32d6b076001fb9.jpg  \n",
            "  inflating: Scan-Trad-project/data/train_version_YOLO_V8/images/DS_17_jpg.rf.3d0d091cc008c105675ca01cbcd2b672.jpg  \n",
            "  inflating: Scan-Trad-project/data/train_version_YOLO_V8/images/DS_18_jpg.rf.484e57ecce2dd8630161e474c3f270dd.jpg  \n",
            "  inflating: Scan-Trad-project/data/train_version_YOLO_V8/images/DS_19_jpg.rf.97923d0ba5f01a754947d3c75f807f2b.jpg  \n",
            "  inflating: Scan-Trad-project/data/train_version_YOLO_V8/images/DS_20_jpg.rf.8ba92841fb2455777d8a599abcb07d55.jpg  \n",
            "  inflating: Scan-Trad-project/data/train_version_YOLO_V8/images/DS_21_jpg.rf.f951d072a73c4ff5bd0f5f11202ad5a7.jpg  \n",
            "  inflating: Scan-Trad-project/data/train_version_YOLO_V8/images/DS_22_jpg.rf.07cdcd91e4744c84264d7fe9abec4e97.jpg  \n",
            "  inflating: Scan-Trad-project/data/train_version_YOLO_V8/images/DS_23_jpg.rf.d6a5362ed574fca33ff89c65aed7bdc7.jpg  \n",
            "  inflating: Scan-Trad-project/data/train_version_YOLO_V8/images/DS_24_jpg.rf.cf5d3291c770cc27aaa89fbf224d14b4.jpg  \n",
            "  inflating: Scan-Trad-project/data/train_version_YOLO_V8/images/DS_25_jpg.rf.d02ecc6a16425f783e1c9b9dcffcceb3.jpg  \n",
            "  inflating: Scan-Trad-project/data/train_version_YOLO_V8/images/DS_28_jpg.rf.10d8dbfe66225ca6d9b360af7642144c.jpg  \n",
            "  inflating: Scan-Trad-project/data/train_version_YOLO_V8/images/DS_29_jpg.rf.46a3602766f8637743a69dd8c2d956fd.jpg  \n",
            "  inflating: Scan-Trad-project/data/train_version_YOLO_V8/images/DS_2_jpg.rf.0070a2c64c6c6389ab8bbcc4c8d0287b.jpg  \n",
            "  inflating: Scan-Trad-project/data/train_version_YOLO_V8/images/DS_30_jpg.rf.fe9f86e9cab47ff3d53bbd6e590fb1b4.jpg  \n",
            "  inflating: Scan-Trad-project/data/train_version_YOLO_V8/images/DS_31_jpg.rf.9f883f8dee6326b00a6c2e67f4c0c332.jpg  \n",
            "  inflating: Scan-Trad-project/data/train_version_YOLO_V8/images/DS_32_jpg.rf.e2892e7177fe4c7e50af55a1a5a58f75.jpg  \n",
            "  inflating: Scan-Trad-project/data/train_version_YOLO_V8/images/DS_33_jpg.rf.a2d5e43f9a82ee034718ff34200fc43e.jpg  \n",
            "  inflating: Scan-Trad-project/data/train_version_YOLO_V8/images/DS_34_jpg.rf.50b75731f52598d6f0f68e0084d03be6.jpg  \n",
            "  inflating: Scan-Trad-project/data/train_version_YOLO_V8/images/DS_35_jpg.rf.34ba4779bb472649c97d50b321c83392.jpg  \n",
            "  inflating: Scan-Trad-project/data/train_version_YOLO_V8/images/DS_36_jpg.rf.92c79cf5563a5f659f5b7556a3c319ac.jpg  \n",
            "  inflating: Scan-Trad-project/data/train_version_YOLO_V8/images/DS_37_jpg.rf.83e21590769ea702a65fe7237ab5aed4.jpg  \n",
            "  inflating: Scan-Trad-project/data/train_version_YOLO_V8/images/DS_38_jpg.rf.860964ead717ed4a70f74298b7c91007.jpg  \n",
            "  inflating: Scan-Trad-project/data/train_version_YOLO_V8/images/DS_39_jpg.rf.eb77a45e615425a7cbdb4dbbb3d32808.jpg  \n",
            "  inflating: Scan-Trad-project/data/train_version_YOLO_V8/images/DS_3_jpg.rf.9a1c239eeb2ccf8f68f27a876c31509f.jpg  \n",
            "  inflating: Scan-Trad-project/data/train_version_YOLO_V8/images/DS_40_jpg.rf.b13b582af5fe7ca69fcac2ecbeaae2f3.jpg  \n",
            "  inflating: Scan-Trad-project/data/train_version_YOLO_V8/images/DS_41_jpg.rf.02a626cee1fbec11a0601e04f4b2e9ef.jpg  \n",
            "  inflating: Scan-Trad-project/data/train_version_YOLO_V8/images/DS_42_jpg.rf.5cbd838bf712ce2b2eea937347061338.jpg  \n",
            "  inflating: Scan-Trad-project/data/train_version_YOLO_V8/images/DS_43_jpg.rf.64854e0912ff1621b1e2528bf1c88d60.jpg  \n",
            "  inflating: Scan-Trad-project/data/train_version_YOLO_V8/images/DS_44_jpg.rf.c168450ae720a965a0d4947e3e84f153.jpg  \n",
            "  inflating: Scan-Trad-project/data/train_version_YOLO_V8/images/DS_45_jpg.rf.1b024969cbef81c261382c0dcfc47f39.jpg  \n",
            "  inflating: Scan-Trad-project/data/train_version_YOLO_V8/images/DS_46_jpg.rf.e4096df3774a5503a0a6f6df68b1acc1.jpg  \n",
            "  inflating: Scan-Trad-project/data/train_version_YOLO_V8/images/DS_47_jpg.rf.e6e7a900f1e5c32162654d5e2ad04ab4.jpg  \n",
            "  inflating: Scan-Trad-project/data/train_version_YOLO_V8/images/DS_48_jpg.rf.897ed290b1c8074d1b4aed34fda2f7ba.jpg  \n",
            "  inflating: Scan-Trad-project/data/train_version_YOLO_V8/images/DS_49_jpg.rf.8906b1f49d02ed4118f2b822d3f04cc3.jpg  \n",
            "  inflating: Scan-Trad-project/data/train_version_YOLO_V8/images/DS_4_jpg.rf.155dba775d5322cb8a8349593f27dddf.jpg  \n",
            "  inflating: Scan-Trad-project/data/train_version_YOLO_V8/images/DS_50_jpg.rf.3a0dbf9f2762f22614bcba7f6b2ae6d0.jpg  \n",
            "  inflating: Scan-Trad-project/data/train_version_YOLO_V8/images/DS_51_jpg.rf.6cfb345062a631e39b8a2ce2c7dfa4d1.jpg  \n",
            "  inflating: Scan-Trad-project/data/train_version_YOLO_V8/images/DS_52_jpg.rf.2f6e3442c2815ba6350eede3bf974f94.jpg  \n",
            "  inflating: Scan-Trad-project/data/train_version_YOLO_V8/images/DS_53_jpg.rf.9a7d04790b6a7aee1071d109102707aa.jpg  \n",
            "  inflating: Scan-Trad-project/data/train_version_YOLO_V8/images/DS_54_jpg.rf.32907853ac4a1e2812080a7894e96b5b.jpg  \n",
            "  inflating: Scan-Trad-project/data/train_version_YOLO_V8/images/DS_55_jpg.rf.2aa5d3a422cbba5f1341659e8efc859b.jpg  \n",
            "  inflating: Scan-Trad-project/data/train_version_YOLO_V8/images/DS_56_jpg.rf.b0f367761fc2a6465dd571b30e472627.jpg  \n",
            "  inflating: Scan-Trad-project/data/train_version_YOLO_V8/images/DS_57_jpg.rf.5c3142117f449185039853951a7c4d4a.jpg  \n",
            "  inflating: Scan-Trad-project/data/train_version_YOLO_V8/images/DS_58_jpg.rf.0a3a361bec4c24043684ef035e9bc240.jpg  \n",
            "  inflating: Scan-Trad-project/data/train_version_YOLO_V8/images/DS_59_jpg.rf.2a76b931259c27132dd24d63db98a2e8.jpg  \n",
            "  inflating: Scan-Trad-project/data/train_version_YOLO_V8/images/DS_5_jpg.rf.dbd302681653157796dc9c8b4ebc2b2e.jpg  \n",
            "  inflating: Scan-Trad-project/data/train_version_YOLO_V8/images/DS_60_jpg.rf.8588ae6d0f64576bddfa06fef8ef495a.jpg  \n",
            "  inflating: Scan-Trad-project/data/train_version_YOLO_V8/images/DS_61_jpg.rf.43d1dbaedc7617247856dd1b43e89189.jpg  \n",
            "  inflating: Scan-Trad-project/data/train_version_YOLO_V8/images/DS_62_jpg.rf.96ee421722345b92e12ebe30a91ed7e1.jpg  \n",
            "  inflating: Scan-Trad-project/data/train_version_YOLO_V8/images/DS_63_jpg.rf.f6b6c2cd602cd6d9cbe4fc5e780c8be4.jpg  \n",
            "  inflating: Scan-Trad-project/data/train_version_YOLO_V8/images/DS_64_jpg.rf.e3b39ecc3ae479ec7ea3f175e43af29f.jpg  \n",
            "  inflating: Scan-Trad-project/data/train_version_YOLO_V8/images/DS_65_jpg.rf.0b4067edbe5bc218d5fb2c99f1697366.jpg  \n",
            "  inflating: Scan-Trad-project/data/train_version_YOLO_V8/images/DS_66_jpg.rf.0340151a877d8f54b8b566fd90325246.jpg  \n",
            "  inflating: Scan-Trad-project/data/train_version_YOLO_V8/images/DS_67_jpg.rf.a1aa9622487d539d1e8b6ccabbd4e139.jpg  \n",
            "  inflating: Scan-Trad-project/data/train_version_YOLO_V8/images/DS_68_jpg.rf.f73771e06fc4fea2bfd884324eb2d92b.jpg  \n",
            "  inflating: Scan-Trad-project/data/train_version_YOLO_V8/images/DS_69_jpg.rf.67833dbf9976e15d0ae7976b5da6fa4c.jpg  \n",
            "  inflating: Scan-Trad-project/data/train_version_YOLO_V8/images/DS_6_jpg.rf.3740d5663bb2bff979129c8e97dc5d93.jpg  \n",
            "  inflating: Scan-Trad-project/data/train_version_YOLO_V8/images/DS_70_jpg.rf.628eac244c236792ae5023ce9aefe822.jpg  \n",
            "  inflating: Scan-Trad-project/data/train_version_YOLO_V8/images/DS_71_jpg.rf.901c666eaca715e7a927fee209bdc12b.jpg  \n",
            "  inflating: Scan-Trad-project/data/train_version_YOLO_V8/images/DS_72_jpg.rf.f10380444de145d7c71368e744291557.jpg  \n",
            "  inflating: Scan-Trad-project/data/train_version_YOLO_V8/images/DS_73_jpg.rf.1be74928fb25b10ca6763067388de69a.jpg  \n",
            "  inflating: Scan-Trad-project/data/train_version_YOLO_V8/images/DS_74_jpg.rf.a568e1b94f525e520d6f55235a862505.jpg  \n",
            "  inflating: Scan-Trad-project/data/train_version_YOLO_V8/images/DS_75_jpg.rf.4d87e3dd96d47ea0677ce2ca5b1d81c0.jpg  \n",
            "  inflating: Scan-Trad-project/data/train_version_YOLO_V8/images/DS_76_jpg.rf.f9cdc49ad73c6eebbe1b3f08f88e9c49.jpg  \n",
            "  inflating: Scan-Trad-project/data/train_version_YOLO_V8/images/DS_77_jpg.rf.3dfa97184826daed8060079bf1b2800a.jpg  \n",
            "  inflating: Scan-Trad-project/data/train_version_YOLO_V8/images/DS_78_jpg.rf.c7aa18c2d146be7a05108f5a4b74590d.jpg  \n",
            "  inflating: Scan-Trad-project/data/train_version_YOLO_V8/images/DS_79_jpg.rf.5a31aa4bc39fffa6325b52e757b6d44d.jpg  \n",
            "  inflating: Scan-Trad-project/data/train_version_YOLO_V8/images/DS_7_jpg.rf.b2cd3d2b063985218278376aca8aba65.jpg  \n",
            "  inflating: Scan-Trad-project/data/train_version_YOLO_V8/images/DS_80_jpg.rf.15e2d7eec8b85ad4256b06e59145bb57.jpg  \n",
            "  inflating: Scan-Trad-project/data/train_version_YOLO_V8/images/DS_81_jpg.rf.c0189abfb1c55f8ccb3a0e9142f0c8d0.jpg  \n",
            "  inflating: Scan-Trad-project/data/train_version_YOLO_V8/images/DS_82_jpg.rf.62d9094eba4d877b32793a9f664415ae.jpg  \n",
            "  inflating: Scan-Trad-project/data/train_version_YOLO_V8/images/DS_83_jpg.rf.6224dc1e63bc0831b232aa51d58d4d4f.jpg  \n",
            "  inflating: Scan-Trad-project/data/train_version_YOLO_V8/images/DS_84_jpg.rf.575c7e70fde3f2431fad7569c70d5536.jpg  \n",
            "  inflating: Scan-Trad-project/data/train_version_YOLO_V8/images/DS_85_jpg.rf.c0056a3bf28037eb3a2c426ca68667d2.jpg  \n",
            "  inflating: Scan-Trad-project/data/train_version_YOLO_V8/images/DS_86_jpg.rf.d2c297f6bcccc84b2516fd3db4bb1be9.jpg  \n",
            "  inflating: Scan-Trad-project/data/train_version_YOLO_V8/images/DS_87_jpg.rf.eab5ba19fbd0026bf151c4179f2e0ea1.jpg  \n",
            "  inflating: Scan-Trad-project/data/train_version_YOLO_V8/images/DS_88_jpg.rf.dd535f9ec8e48313fe01b1bd7a8a8dcd.jpg  \n",
            "  inflating: Scan-Trad-project/data/train_version_YOLO_V8/images/DS_89_jpg.rf.e05e0eb90beb085fedb24c53e8a0b3bc.jpg  \n",
            "  inflating: Scan-Trad-project/data/train_version_YOLO_V8/images/DS_8_jpg.rf.4aee262285b23041109793869c4057d2.jpg  \n",
            "  inflating: Scan-Trad-project/data/train_version_YOLO_V8/images/DS_90_jpg.rf.902d2094a0d8689d26a4c10432f23c6f.jpg  \n",
            "  inflating: Scan-Trad-project/data/train_version_YOLO_V8/images/DS_91_jpg.rf.616380e3b4f20a27e370ccdc406bef22.jpg  \n",
            "  inflating: Scan-Trad-project/data/train_version_YOLO_V8/images/DS_92_jpg.rf.8007443049f127dbbe395325ee8d1af8.jpg  \n",
            "  inflating: Scan-Trad-project/data/train_version_YOLO_V8/images/DS_93_jpg.rf.59d124a5619eb16c61725f84c26c57ce.jpg  \n",
            "  inflating: Scan-Trad-project/data/train_version_YOLO_V8/images/DS_94_jpg.rf.9ee1a6f0e95343d19d3d1721ade73bbd.jpg  \n",
            "  inflating: Scan-Trad-project/data/train_version_YOLO_V8/images/DS_95_jpg.rf.5052b17b2c919d9b89f82aa33244eb1c.jpg  \n",
            "  inflating: Scan-Trad-project/data/train_version_YOLO_V8/images/DS_96_jpg.rf.813261ba1a04f96adbc08270af8cc6a6.jpg  \n",
            "  inflating: Scan-Trad-project/data/train_version_YOLO_V8/images/DS_97_jpg.rf.da901609970cf6f50bd6b6391f5706f8.jpg  \n",
            "  inflating: Scan-Trad-project/data/train_version_YOLO_V8/images/DS_98_jpg.rf.a15bc7dee9615329e300cf8a035ba4d3.jpg  \n",
            "  inflating: Scan-Trad-project/data/train_version_YOLO_V8/images/DS_99_jpg.rf.6eb0144cd7d9d110f9ba2c8043ec86a8.jpg  \n",
            "  inflating: Scan-Trad-project/data/train_version_YOLO_V8/images/DS_9_jpg.rf.83bdce2aed9ea1de5affd46545ed5114.jpg  \n",
            "   creating: Scan-Trad-project/data/train_version_YOLO_V8/labels/\n",
            "  inflating: Scan-Trad-project/data/train_version_YOLO_V8/labels/DS_100_jpg.rf.f4aa7b39cf6ec62c4b8de2fd066c3a4b.txt  \n",
            "  inflating: Scan-Trad-project/data/train_version_YOLO_V8/labels/DS_10_jpg.rf.563903d03682357168d593bd82244a83.txt  \n",
            "  inflating: Scan-Trad-project/data/train_version_YOLO_V8/labels/DS_11_jpg.rf.7dea8b7e0a5f3623f8c68550a201d943.txt  \n",
            "  inflating: Scan-Trad-project/data/train_version_YOLO_V8/labels/DS_12_jpg.rf.3dc2fefe9f031e68f4d73e3a0cb82287.txt  \n",
            "  inflating: Scan-Trad-project/data/train_version_YOLO_V8/labels/DS_13_jpg.rf.05bb434a4c4042cc05b67fcf5c67d48b.txt  \n",
            "  inflating: Scan-Trad-project/data/train_version_YOLO_V8/labels/DS_14_jpg.rf.15c44f620f6fe42eceb9c9dc62cbd9e5.txt  \n",
            "  inflating: Scan-Trad-project/data/train_version_YOLO_V8/labels/DS_15_jpg.rf.9e40f3d81e07fc83428afd6ed1a0e882.txt  \n",
            "  inflating: Scan-Trad-project/data/train_version_YOLO_V8/labels/DS_16_jpg.rf.4bb26fbd9826b09afa32d6b076001fb9.txt  \n",
            "  inflating: Scan-Trad-project/data/train_version_YOLO_V8/labels/DS_17_jpg.rf.3d0d091cc008c105675ca01cbcd2b672.txt  \n",
            "  inflating: Scan-Trad-project/data/train_version_YOLO_V8/labels/DS_18_jpg.rf.484e57ecce2dd8630161e474c3f270dd.txt  \n",
            "  inflating: Scan-Trad-project/data/train_version_YOLO_V8/labels/DS_19_jpg.rf.97923d0ba5f01a754947d3c75f807f2b.txt  \n",
            "  inflating: Scan-Trad-project/data/train_version_YOLO_V8/labels/DS_20_jpg.rf.8ba92841fb2455777d8a599abcb07d55.txt  \n",
            "  inflating: Scan-Trad-project/data/train_version_YOLO_V8/labels/DS_21_jpg.rf.f951d072a73c4ff5bd0f5f11202ad5a7.txt  \n",
            "  inflating: Scan-Trad-project/data/train_version_YOLO_V8/labels/DS_22_jpg.rf.07cdcd91e4744c84264d7fe9abec4e97.txt  \n",
            "  inflating: Scan-Trad-project/data/train_version_YOLO_V8/labels/DS_23_jpg.rf.d6a5362ed574fca33ff89c65aed7bdc7.txt  \n",
            "  inflating: Scan-Trad-project/data/train_version_YOLO_V8/labels/DS_24_jpg.rf.cf5d3291c770cc27aaa89fbf224d14b4.txt  \n",
            "  inflating: Scan-Trad-project/data/train_version_YOLO_V8/labels/DS_25_jpg.rf.d02ecc6a16425f783e1c9b9dcffcceb3.txt  \n",
            "  inflating: Scan-Trad-project/data/train_version_YOLO_V8/labels/DS_28_jpg.rf.10d8dbfe66225ca6d9b360af7642144c.txt  \n",
            "  inflating: Scan-Trad-project/data/train_version_YOLO_V8/labels/DS_29_jpg.rf.46a3602766f8637743a69dd8c2d956fd.txt  \n",
            "  inflating: Scan-Trad-project/data/train_version_YOLO_V8/labels/DS_2_jpg.rf.0070a2c64c6c6389ab8bbcc4c8d0287b.txt  \n",
            "  inflating: Scan-Trad-project/data/train_version_YOLO_V8/labels/DS_30_jpg.rf.fe9f86e9cab47ff3d53bbd6e590fb1b4.txt  \n",
            "  inflating: Scan-Trad-project/data/train_version_YOLO_V8/labels/DS_31_jpg.rf.9f883f8dee6326b00a6c2e67f4c0c332.txt  \n",
            "  inflating: Scan-Trad-project/data/train_version_YOLO_V8/labels/DS_32_jpg.rf.e2892e7177fe4c7e50af55a1a5a58f75.txt  \n",
            "  inflating: Scan-Trad-project/data/train_version_YOLO_V8/labels/DS_33_jpg.rf.a2d5e43f9a82ee034718ff34200fc43e.txt  \n",
            "  inflating: Scan-Trad-project/data/train_version_YOLO_V8/labels/DS_34_jpg.rf.50b75731f52598d6f0f68e0084d03be6.txt  \n",
            "  inflating: Scan-Trad-project/data/train_version_YOLO_V8/labels/DS_35_jpg.rf.34ba4779bb472649c97d50b321c83392.txt  \n",
            "  inflating: Scan-Trad-project/data/train_version_YOLO_V8/labels/DS_36_jpg.rf.92c79cf5563a5f659f5b7556a3c319ac.txt  \n",
            "  inflating: Scan-Trad-project/data/train_version_YOLO_V8/labels/DS_37_jpg.rf.83e21590769ea702a65fe7237ab5aed4.txt  \n",
            "  inflating: Scan-Trad-project/data/train_version_YOLO_V8/labels/DS_38_jpg.rf.860964ead717ed4a70f74298b7c91007.txt  \n",
            "  inflating: Scan-Trad-project/data/train_version_YOLO_V8/labels/DS_39_jpg.rf.eb77a45e615425a7cbdb4dbbb3d32808.txt  \n",
            "  inflating: Scan-Trad-project/data/train_version_YOLO_V8/labels/DS_3_jpg.rf.9a1c239eeb2ccf8f68f27a876c31509f.txt  \n",
            "  inflating: Scan-Trad-project/data/train_version_YOLO_V8/labels/DS_40_jpg.rf.b13b582af5fe7ca69fcac2ecbeaae2f3.txt  \n",
            "  inflating: Scan-Trad-project/data/train_version_YOLO_V8/labels/DS_41_jpg.rf.02a626cee1fbec11a0601e04f4b2e9ef.txt  \n",
            "  inflating: Scan-Trad-project/data/train_version_YOLO_V8/labels/DS_42_jpg.rf.5cbd838bf712ce2b2eea937347061338.txt  \n",
            "  inflating: Scan-Trad-project/data/train_version_YOLO_V8/labels/DS_43_jpg.rf.64854e0912ff1621b1e2528bf1c88d60.txt  \n",
            "  inflating: Scan-Trad-project/data/train_version_YOLO_V8/labels/DS_44_jpg.rf.c168450ae720a965a0d4947e3e84f153.txt  \n",
            "  inflating: Scan-Trad-project/data/train_version_YOLO_V8/labels/DS_45_jpg.rf.1b024969cbef81c261382c0dcfc47f39.txt  \n",
            "  inflating: Scan-Trad-project/data/train_version_YOLO_V8/labels/DS_46_jpg.rf.e4096df3774a5503a0a6f6df68b1acc1.txt  \n",
            "  inflating: Scan-Trad-project/data/train_version_YOLO_V8/labels/DS_47_jpg.rf.e6e7a900f1e5c32162654d5e2ad04ab4.txt  \n",
            "  inflating: Scan-Trad-project/data/train_version_YOLO_V8/labels/DS_48_jpg.rf.897ed290b1c8074d1b4aed34fda2f7ba.txt  \n",
            "  inflating: Scan-Trad-project/data/train_version_YOLO_V8/labels/DS_49_jpg.rf.8906b1f49d02ed4118f2b822d3f04cc3.txt  \n",
            "  inflating: Scan-Trad-project/data/train_version_YOLO_V8/labels/DS_4_jpg.rf.155dba775d5322cb8a8349593f27dddf.txt  \n",
            "  inflating: Scan-Trad-project/data/train_version_YOLO_V8/labels/DS_50_jpg.rf.3a0dbf9f2762f22614bcba7f6b2ae6d0.txt  \n",
            "  inflating: Scan-Trad-project/data/train_version_YOLO_V8/labels/DS_51_jpg.rf.6cfb345062a631e39b8a2ce2c7dfa4d1.txt  \n",
            "  inflating: Scan-Trad-project/data/train_version_YOLO_V8/labels/DS_52_jpg.rf.2f6e3442c2815ba6350eede3bf974f94.txt  \n",
            "  inflating: Scan-Trad-project/data/train_version_YOLO_V8/labels/DS_53_jpg.rf.9a7d04790b6a7aee1071d109102707aa.txt  \n",
            "  inflating: Scan-Trad-project/data/train_version_YOLO_V8/labels/DS_54_jpg.rf.32907853ac4a1e2812080a7894e96b5b.txt  \n",
            "  inflating: Scan-Trad-project/data/train_version_YOLO_V8/labels/DS_55_jpg.rf.2aa5d3a422cbba5f1341659e8efc859b.txt  \n",
            "  inflating: Scan-Trad-project/data/train_version_YOLO_V8/labels/DS_56_jpg.rf.b0f367761fc2a6465dd571b30e472627.txt  \n",
            "  inflating: Scan-Trad-project/data/train_version_YOLO_V8/labels/DS_57_jpg.rf.5c3142117f449185039853951a7c4d4a.txt  \n",
            "  inflating: Scan-Trad-project/data/train_version_YOLO_V8/labels/DS_58_jpg.rf.0a3a361bec4c24043684ef035e9bc240.txt  \n",
            "  inflating: Scan-Trad-project/data/train_version_YOLO_V8/labels/DS_59_jpg.rf.2a76b931259c27132dd24d63db98a2e8.txt  \n",
            "  inflating: Scan-Trad-project/data/train_version_YOLO_V8/labels/DS_5_jpg.rf.dbd302681653157796dc9c8b4ebc2b2e.txt  \n",
            "  inflating: Scan-Trad-project/data/train_version_YOLO_V8/labels/DS_60_jpg.rf.8588ae6d0f64576bddfa06fef8ef495a.txt  \n",
            "  inflating: Scan-Trad-project/data/train_version_YOLO_V8/labels/DS_61_jpg.rf.43d1dbaedc7617247856dd1b43e89189.txt  \n",
            "  inflating: Scan-Trad-project/data/train_version_YOLO_V8/labels/DS_62_jpg.rf.96ee421722345b92e12ebe30a91ed7e1.txt  \n",
            "  inflating: Scan-Trad-project/data/train_version_YOLO_V8/labels/DS_63_jpg.rf.f6b6c2cd602cd6d9cbe4fc5e780c8be4.txt  \n",
            "  inflating: Scan-Trad-project/data/train_version_YOLO_V8/labels/DS_64_jpg.rf.e3b39ecc3ae479ec7ea3f175e43af29f.txt  \n",
            "  inflating: Scan-Trad-project/data/train_version_YOLO_V8/labels/DS_65_jpg.rf.0b4067edbe5bc218d5fb2c99f1697366.txt  \n",
            "  inflating: Scan-Trad-project/data/train_version_YOLO_V8/labels/DS_66_jpg.rf.0340151a877d8f54b8b566fd90325246.txt  \n",
            "  inflating: Scan-Trad-project/data/train_version_YOLO_V8/labels/DS_67_jpg.rf.a1aa9622487d539d1e8b6ccabbd4e139.txt  \n",
            "  inflating: Scan-Trad-project/data/train_version_YOLO_V8/labels/DS_68_jpg.rf.f73771e06fc4fea2bfd884324eb2d92b.txt  \n",
            "  inflating: Scan-Trad-project/data/train_version_YOLO_V8/labels/DS_69_jpg.rf.67833dbf9976e15d0ae7976b5da6fa4c.txt  \n",
            "  inflating: Scan-Trad-project/data/train_version_YOLO_V8/labels/DS_6_jpg.rf.3740d5663bb2bff979129c8e97dc5d93.txt  \n",
            "  inflating: Scan-Trad-project/data/train_version_YOLO_V8/labels/DS_70_jpg.rf.628eac244c236792ae5023ce9aefe822.txt  \n",
            "  inflating: Scan-Trad-project/data/train_version_YOLO_V8/labels/DS_71_jpg.rf.901c666eaca715e7a927fee209bdc12b.txt  \n",
            "  inflating: Scan-Trad-project/data/train_version_YOLO_V8/labels/DS_72_jpg.rf.f10380444de145d7c71368e744291557.txt  \n",
            "  inflating: Scan-Trad-project/data/train_version_YOLO_V8/labels/DS_73_jpg.rf.1be74928fb25b10ca6763067388de69a.txt  \n",
            "  inflating: Scan-Trad-project/data/train_version_YOLO_V8/labels/DS_74_jpg.rf.a568e1b94f525e520d6f55235a862505.txt  \n",
            "  inflating: Scan-Trad-project/data/train_version_YOLO_V8/labels/DS_75_jpg.rf.4d87e3dd96d47ea0677ce2ca5b1d81c0.txt  \n",
            "  inflating: Scan-Trad-project/data/train_version_YOLO_V8/labels/DS_76_jpg.rf.f9cdc49ad73c6eebbe1b3f08f88e9c49.txt  \n",
            "  inflating: Scan-Trad-project/data/train_version_YOLO_V8/labels/DS_77_jpg.rf.3dfa97184826daed8060079bf1b2800a.txt  \n",
            "  inflating: Scan-Trad-project/data/train_version_YOLO_V8/labels/DS_78_jpg.rf.c7aa18c2d146be7a05108f5a4b74590d.txt  \n",
            "  inflating: Scan-Trad-project/data/train_version_YOLO_V8/labels/DS_79_jpg.rf.5a31aa4bc39fffa6325b52e757b6d44d.txt  \n",
            "  inflating: Scan-Trad-project/data/train_version_YOLO_V8/labels/DS_7_jpg.rf.b2cd3d2b063985218278376aca8aba65.txt  \n",
            "  inflating: Scan-Trad-project/data/train_version_YOLO_V8/labels/DS_80_jpg.rf.15e2d7eec8b85ad4256b06e59145bb57.txt  \n",
            "  inflating: Scan-Trad-project/data/train_version_YOLO_V8/labels/DS_81_jpg.rf.c0189abfb1c55f8ccb3a0e9142f0c8d0.txt  \n",
            "  inflating: Scan-Trad-project/data/train_version_YOLO_V8/labels/DS_82_jpg.rf.62d9094eba4d877b32793a9f664415ae.txt  \n",
            "  inflating: Scan-Trad-project/data/train_version_YOLO_V8/labels/DS_83_jpg.rf.6224dc1e63bc0831b232aa51d58d4d4f.txt  \n",
            "  inflating: Scan-Trad-project/data/train_version_YOLO_V8/labels/DS_84_jpg.rf.575c7e70fde3f2431fad7569c70d5536.txt  \n",
            "  inflating: Scan-Trad-project/data/train_version_YOLO_V8/labels/DS_85_jpg.rf.c0056a3bf28037eb3a2c426ca68667d2.txt  \n",
            "  inflating: Scan-Trad-project/data/train_version_YOLO_V8/labels/DS_86_jpg.rf.d2c297f6bcccc84b2516fd3db4bb1be9.txt  \n",
            "  inflating: Scan-Trad-project/data/train_version_YOLO_V8/labels/DS_87_jpg.rf.eab5ba19fbd0026bf151c4179f2e0ea1.txt  \n",
            "  inflating: Scan-Trad-project/data/train_version_YOLO_V8/labels/DS_88_jpg.rf.dd535f9ec8e48313fe01b1bd7a8a8dcd.txt  \n",
            "  inflating: Scan-Trad-project/data/train_version_YOLO_V8/labels/DS_89_jpg.rf.e05e0eb90beb085fedb24c53e8a0b3bc.txt  \n",
            "  inflating: Scan-Trad-project/data/train_version_YOLO_V8/labels/DS_8_jpg.rf.4aee262285b23041109793869c4057d2.txt  \n",
            "  inflating: Scan-Trad-project/data/train_version_YOLO_V8/labels/DS_90_jpg.rf.902d2094a0d8689d26a4c10432f23c6f.txt  \n",
            "  inflating: Scan-Trad-project/data/train_version_YOLO_V8/labels/DS_91_jpg.rf.616380e3b4f20a27e370ccdc406bef22.txt  \n",
            "  inflating: Scan-Trad-project/data/train_version_YOLO_V8/labels/DS_92_jpg.rf.8007443049f127dbbe395325ee8d1af8.txt  \n",
            "  inflating: Scan-Trad-project/data/train_version_YOLO_V8/labels/DS_93_jpg.rf.59d124a5619eb16c61725f84c26c57ce.txt  \n",
            "  inflating: Scan-Trad-project/data/train_version_YOLO_V8/labels/DS_94_jpg.rf.9ee1a6f0e95343d19d3d1721ade73bbd.txt  \n",
            "  inflating: Scan-Trad-project/data/train_version_YOLO_V8/labels/DS_95_jpg.rf.5052b17b2c919d9b89f82aa33244eb1c.txt  \n",
            "  inflating: Scan-Trad-project/data/train_version_YOLO_V8/labels/DS_96_jpg.rf.813261ba1a04f96adbc08270af8cc6a6.txt  \n",
            "  inflating: Scan-Trad-project/data/train_version_YOLO_V8/labels/DS_97_jpg.rf.da901609970cf6f50bd6b6391f5706f8.txt  \n",
            "  inflating: Scan-Trad-project/data/train_version_YOLO_V8/labels/DS_98_jpg.rf.a15bc7dee9615329e300cf8a035ba4d3.txt  \n",
            "  inflating: Scan-Trad-project/data/train_version_YOLO_V8/labels/DS_99_jpg.rf.6eb0144cd7d9d110f9ba2c8043ec86a8.txt  \n",
            "  inflating: Scan-Trad-project/data/train_version_YOLO_V8/labels/DS_9_jpg.rf.83bdce2aed9ea1de5affd46545ed5114.txt  \n"
          ]
        }
      ]
    },
    {
      "cell_type": "markdown",
      "source": [
        "## Séparer mes données en train/val"
      ],
      "metadata": {
        "id": "PZVsaLoDUHQN"
      }
    },
    {
      "cell_type": "code",
      "source": [
        "import os\n",
        "import shutil\n",
        "import random\n",
        "\n",
        "# Dossiers d'entrée\n",
        "img_dir = '/content/Scan-Trad-project/data/train_version_YOLO_V8/images'\n",
        "lbl_dir = '/content/Scan-Trad-project/data/train_version_YOLO_V8/labels'\n",
        "\n",
        "# Dossiers de sortie\n",
        "for subset in ['train', 'val']:\n",
        "    os.makedirs(f'/content/Scan-Trad-project/data/train_version_YOLO_V8/{subset}/images', exist_ok=True)\n",
        "    os.makedirs(f'/content/Scan-Trad-project/data/train_version_YOLO_V8/{subset}/labels', exist_ok=True)\n",
        "\n",
        "# Séparation (80% train, 20% val)\n",
        "images = [f for f in os.listdir(img_dir) if f.endswith('.jpg')]\n",
        "random.shuffle(images)\n",
        "split = int(0.8 * len(images))\n",
        "train_imgs = images[:split]\n",
        "val_imgs = images[split:]\n",
        "\n",
        "def move_files(file_list, subset):\n",
        "    for img_file in file_list:\n",
        "        lbl_file = img_file.replace('.jpg', '.txt')\n",
        "        shutil.copy(os.path.join(img_dir, img_file), f'/content/Scan-Trad-project/data/train_version_YOLO_V8/{subset}/images/{img_file}')\n",
        "        shutil.copy(os.path.join(lbl_dir, lbl_file), f'/content/Scan-Trad-project/data/train_version_YOLO_V8/{subset}/labels/{lbl_file}')\n",
        "\n",
        "move_files(train_imgs, 'train')\n",
        "move_files(val_imgs, 'val')\n"
      ],
      "metadata": {
        "id": "NDT-QDK-UNyH"
      },
      "execution_count": 5,
      "outputs": []
    },
    {
      "cell_type": "markdown",
      "source": [
        "## Ecrire dans un fichier json"
      ],
      "metadata": {
        "id": "7SFt1lRPW_00"
      }
    },
    {
      "cell_type": "code",
      "source": [
        "%%writefile data.yaml\n",
        "path: /content/Scan-Trad-project/data/train_version_YOLO_V8  # Chemin racine\n",
        "train: train/images\n",
        "val: val/images\n",
        "\n",
        "nc: 1  # nombre de classes\n",
        "names: ['bulle']  # nom de ta classe\n"
      ],
      "metadata": {
        "colab": {
          "base_uri": "https://localhost:8080/"
        },
        "id": "NLu3cr299Z6O",
        "outputId": "f241a249-d5b5-4a6e-bc5b-9639d2917968"
      },
      "execution_count": 6,
      "outputs": [
        {
          "output_type": "stream",
          "name": "stdout",
          "text": [
            "Writing data.yaml\n"
          ]
        }
      ]
    },
    {
      "cell_type": "markdown",
      "source": [
        "## Entraînement du modèle\n",
        "\n",
        "Nous allons utiliser YOLOv8n comme modèle de base et faire du transfer learning\n"
      ],
      "metadata": {
        "id": "395o3Xof9icS"
      }
    },
    {
      "cell_type": "code",
      "source": [
        "# Chargement du modèle YOLOv8n\n",
        "model = YOLO('yolov8n.pt')\n",
        "\n",
        "# Entraînement du modèle\n",
        "results = model.train(\n",
        "    data='data.yaml',   # config data\n",
        "    epochs=100,         # nombre d'époques\n",
        "    imgsz=640,          # taille des images\n",
        "    batch=16,           # taille du batch\n",
        "    patience=20,        # early stopping\n",
        "    save=True,          # sauvegarder le meilleur modèle\n",
        "    device='0'          # utiliser le GPU\n",
        ")\n"
      ],
      "metadata": {
        "colab": {
          "base_uri": "https://localhost:8080/"
        },
        "id": "cbJYetsP9qng",
        "outputId": "39cc5d25-8d15-40c6-ceae-0869c0cf62b0"
      },
      "execution_count": 7,
      "outputs": [
        {
          "output_type": "stream",
          "name": "stdout",
          "text": [
            "Downloading https://github.com/ultralytics/assets/releases/download/v8.3.0/yolov8n.pt to 'yolov8n.pt'...\n"
          ]
        },
        {
          "output_type": "stream",
          "name": "stderr",
          "text": [
            "100%|██████████| 6.25M/6.25M [00:00<00:00, 106MB/s]\n"
          ]
        },
        {
          "output_type": "stream",
          "name": "stdout",
          "text": [
            "Ultralytics 8.3.149 🚀 Python-3.11.12 torch-2.6.0+cu124 CUDA:0 (Tesla T4, 15095MiB)\n",
            "\u001b[34m\u001b[1mengine/trainer: \u001b[0magnostic_nms=False, amp=True, augment=False, auto_augment=randaugment, batch=16, bgr=0.0, box=7.5, cache=False, cfg=None, classes=None, close_mosaic=10, cls=0.5, conf=None, copy_paste=0.0, copy_paste_mode=flip, cos_lr=False, cutmix=0.0, data=data.yaml, degrees=0.0, deterministic=True, device=0, dfl=1.5, dnn=False, dropout=0.0, dynamic=False, embed=None, epochs=100, erasing=0.4, exist_ok=False, fliplr=0.5, flipud=0.0, format=torchscript, fraction=1.0, freeze=None, half=False, hsv_h=0.015, hsv_s=0.7, hsv_v=0.4, imgsz=640, int8=False, iou=0.7, keras=False, kobj=1.0, line_width=None, lr0=0.01, lrf=0.01, mask_ratio=4, max_det=300, mixup=0.0, mode=train, model=yolov8n.pt, momentum=0.937, mosaic=1.0, multi_scale=False, name=train, nbs=64, nms=False, opset=None, optimize=False, optimizer=auto, overlap_mask=True, patience=20, perspective=0.0, plots=True, pose=12.0, pretrained=True, profile=False, project=None, rect=False, resume=False, retina_masks=False, save=True, save_conf=False, save_crop=False, save_dir=runs/detect/train, save_frames=False, save_json=False, save_period=-1, save_txt=False, scale=0.5, seed=0, shear=0.0, show=False, show_boxes=True, show_conf=True, show_labels=True, simplify=True, single_cls=False, source=None, split=val, stream_buffer=False, task=detect, time=None, tracker=botsort.yaml, translate=0.1, val=True, verbose=True, vid_stride=1, visualize=False, warmup_bias_lr=0.1, warmup_epochs=3.0, warmup_momentum=0.8, weight_decay=0.0005, workers=8, workspace=None\n",
            "Downloading https://ultralytics.com/assets/Arial.ttf to '/root/.config/Ultralytics/Arial.ttf'...\n"
          ]
        },
        {
          "output_type": "stream",
          "name": "stderr",
          "text": [
            "100%|██████████| 755k/755k [00:00<00:00, 24.3MB/s]"
          ]
        },
        {
          "output_type": "stream",
          "name": "stdout",
          "text": [
            "Overriding model.yaml nc=80 with nc=1\n",
            "\n",
            "                   from  n    params  module                                       arguments                     \n",
            "  0                  -1  1       464  ultralytics.nn.modules.conv.Conv             [3, 16, 3, 2]                 \n",
            "  1                  -1  1      4672  ultralytics.nn.modules.conv.Conv             [16, 32, 3, 2]                \n",
            "  2                  -1  1      7360  ultralytics.nn.modules.block.C2f             [32, 32, 1, True]             \n",
            "  3                  -1  1     18560  ultralytics.nn.modules.conv.Conv             [32, 64, 3, 2]                \n",
            "  4                  -1  2     49664  ultralytics.nn.modules.block.C2f             [64, 64, 2, True]             \n",
            "  5                  -1  1     73984  ultralytics.nn.modules.conv.Conv             [64, 128, 3, 2]               \n",
            "  6                  -1  2    197632  ultralytics.nn.modules.block.C2f             [128, 128, 2, True]           \n",
            "  7                  -1  1    295424  ultralytics.nn.modules.conv.Conv             [128, 256, 3, 2]              \n",
            "  8                  -1  1    460288  ultralytics.nn.modules.block.C2f             [256, 256, 1, True]           \n",
            "  9                  -1  1    164608  ultralytics.nn.modules.block.SPPF            [256, 256, 5]                 \n",
            " 10                  -1  1         0  torch.nn.modules.upsampling.Upsample         [None, 2, 'nearest']          \n",
            " 11             [-1, 6]  1         0  ultralytics.nn.modules.conv.Concat           [1]                           \n",
            " 12                  -1  1    148224  ultralytics.nn.modules.block.C2f             [384, 128, 1]                 \n",
            " 13                  -1  1         0  torch.nn.modules.upsampling.Upsample         [None, 2, 'nearest']          \n",
            " 14             [-1, 4]  1         0  ultralytics.nn.modules.conv.Concat           [1]                           \n",
            " 15                  -1  1     37248  ultralytics.nn.modules.block.C2f             [192, 64, 1]                  \n",
            " 16                  -1  1     36992  ultralytics.nn.modules.conv.Conv             [64, 64, 3, 2]                \n",
            " 17            [-1, 12]  1         0  ultralytics.nn.modules.conv.Concat           [1]                           \n",
            " 18                  -1  1    123648  ultralytics.nn.modules.block.C2f             [192, 128, 1]                 \n",
            " 19                  -1  1    147712  ultralytics.nn.modules.conv.Conv             [128, 128, 3, 2]              \n",
            " 20             [-1, 9]  1         0  ultralytics.nn.modules.conv.Concat           [1]                           \n",
            " 21                  -1  1    493056  ultralytics.nn.modules.block.C2f             [384, 256, 1]                 \n",
            " 22        [15, 18, 21]  1    751507  ultralytics.nn.modules.head.Detect           [1, [64, 128, 256]]           \n"
          ]
        },
        {
          "output_type": "stream",
          "name": "stderr",
          "text": [
            "\n"
          ]
        },
        {
          "output_type": "stream",
          "name": "stdout",
          "text": [
            "Model summary: 129 layers, 3,011,043 parameters, 3,011,027 gradients, 8.2 GFLOPs\n",
            "\n",
            "Transferred 319/355 items from pretrained weights\n",
            "Freezing layer 'model.22.dfl.conv.weight'\n",
            "\u001b[34m\u001b[1mAMP: \u001b[0mrunning Automatic Mixed Precision (AMP) checks...\n",
            "Downloading https://github.com/ultralytics/assets/releases/download/v8.3.0/yolo11n.pt to 'yolo11n.pt'...\n"
          ]
        },
        {
          "output_type": "stream",
          "name": "stderr",
          "text": [
            "100%|██████████| 5.35M/5.35M [00:00<00:00, 109MB/s]\n"
          ]
        },
        {
          "output_type": "stream",
          "name": "stdout",
          "text": [
            "\u001b[34m\u001b[1mAMP: \u001b[0mchecks passed ✅\n",
            "\u001b[34m\u001b[1mtrain: \u001b[0mFast image access ✅ (ping: 0.0±0.0 ms, read: 235.5±66.4 MB/s, size: 101.6 KB)\n"
          ]
        },
        {
          "output_type": "stream",
          "name": "stderr",
          "text": [
            "\u001b[34m\u001b[1mtrain: \u001b[0mScanning /content/Scan-Trad-project/data/train_version_YOLO_V8/train/labels... 96 images, 0 backgrounds, 0 corrupt: 100%|██████████| 96/96 [00:00<00:00, 2399.30it/s]"
          ]
        },
        {
          "output_type": "stream",
          "name": "stdout",
          "text": [
            "\u001b[34m\u001b[1mtrain: \u001b[0mNew cache created: /content/Scan-Trad-project/data/train_version_YOLO_V8/train/labels.cache\n",
            "WARNING ⚠️ Box and segment counts should be equal, but got len(segments) = 9, len(boxes) = 675. To resolve this only boxes will be used and all segments will be removed. To avoid this please supply either a detect or segment dataset, not a detect-segment mixed dataset.\n"
          ]
        },
        {
          "output_type": "stream",
          "name": "stderr",
          "text": [
            "\n"
          ]
        },
        {
          "output_type": "stream",
          "name": "stdout",
          "text": [
            "\u001b[34m\u001b[1malbumentations: \u001b[0mBlur(p=0.01, blur_limit=(3, 7)), MedianBlur(p=0.01, blur_limit=(3, 7)), ToGray(p=0.01, method='weighted_average', num_output_channels=3), CLAHE(p=0.01, clip_limit=(1.0, 4.0), tile_grid_size=(8, 8))\n",
            "\u001b[34m\u001b[1mval: \u001b[0mFast image access ✅ (ping: 0.0±0.0 ms, read: 498.5±144.5 MB/s, size: 98.2 KB)\n"
          ]
        },
        {
          "output_type": "stream",
          "name": "stderr",
          "text": [
            "\u001b[34m\u001b[1mval: \u001b[0mScanning /content/Scan-Trad-project/data/train_version_YOLO_V8/val/labels... 39 images, 0 backgrounds, 0 corrupt: 100%|██████████| 39/39 [00:00<00:00, 936.27it/s]"
          ]
        },
        {
          "output_type": "stream",
          "name": "stdout",
          "text": [
            "\u001b[34m\u001b[1mval: \u001b[0mNew cache created: /content/Scan-Trad-project/data/train_version_YOLO_V8/val/labels.cache\n"
          ]
        },
        {
          "output_type": "stream",
          "name": "stderr",
          "text": [
            "\n"
          ]
        },
        {
          "output_type": "stream",
          "name": "stdout",
          "text": [
            "Plotting labels to runs/detect/train/labels.jpg... \n",
            "\u001b[34m\u001b[1moptimizer:\u001b[0m 'optimizer=auto' found, ignoring 'lr0=0.01' and 'momentum=0.937' and determining best 'optimizer', 'lr0' and 'momentum' automatically... \n",
            "\u001b[34m\u001b[1moptimizer:\u001b[0m AdamW(lr=0.002, momentum=0.9) with parameter groups 57 weight(decay=0.0), 64 weight(decay=0.0005), 63 bias(decay=0.0)\n",
            "Image sizes 640 train, 640 val\n",
            "Using 2 dataloader workers\n",
            "Logging results to \u001b[1mruns/detect/train\u001b[0m\n",
            "Starting training for 100 epochs...\n",
            "\n",
            "      Epoch    GPU_mem   box_loss   cls_loss   dfl_loss  Instances       Size\n"
          ]
        },
        {
          "output_type": "stream",
          "name": "stderr",
          "text": [
            "      1/100      2.09G      2.407      3.656      2.262        166        640: 100%|██████████| 6/6 [00:03<00:00,  1.80it/s]\n",
            "                 Class     Images  Instances      Box(P          R      mAP50  mAP50-95): 100%|██████████| 2/2 [00:01<00:00,  1.44it/s]"
          ]
        },
        {
          "output_type": "stream",
          "name": "stdout",
          "text": [
            "                   all         39        259    0.00385      0.174    0.00424   0.000829\n"
          ]
        },
        {
          "output_type": "stream",
          "name": "stderr",
          "text": [
            "\n"
          ]
        },
        {
          "output_type": "stream",
          "name": "stdout",
          "text": [
            "\n",
            "      Epoch    GPU_mem   box_loss   cls_loss   dfl_loss  Instances       Size\n"
          ]
        },
        {
          "output_type": "stream",
          "name": "stderr",
          "text": [
            "      2/100      2.58G      1.941       3.27      1.798        100        640: 100%|██████████| 6/6 [00:01<00:00,  3.91it/s]\n",
            "                 Class     Images  Instances      Box(P          R      mAP50  mAP50-95): 100%|██████████| 2/2 [00:00<00:00,  2.71it/s]"
          ]
        },
        {
          "output_type": "stream",
          "name": "stdout",
          "text": [
            "                   all         39        259     0.0177      0.799      0.118     0.0355\n"
          ]
        },
        {
          "output_type": "stream",
          "name": "stderr",
          "text": [
            "\n"
          ]
        },
        {
          "output_type": "stream",
          "name": "stdout",
          "text": [
            "\n",
            "      Epoch    GPU_mem   box_loss   cls_loss   dfl_loss  Instances       Size\n"
          ]
        },
        {
          "output_type": "stream",
          "name": "stderr",
          "text": [
            "      3/100       2.6G       1.51      1.905      1.365        127        640: 100%|██████████| 6/6 [00:01<00:00,  3.59it/s]\n",
            "                 Class     Images  Instances      Box(P          R      mAP50  mAP50-95): 100%|██████████| 2/2 [00:00<00:00,  3.95it/s]"
          ]
        },
        {
          "output_type": "stream",
          "name": "stdout",
          "text": [
            "                   all         39        259     0.0216      0.977      0.731      0.348\n"
          ]
        },
        {
          "output_type": "stream",
          "name": "stderr",
          "text": [
            "\n"
          ]
        },
        {
          "output_type": "stream",
          "name": "stdout",
          "text": [
            "\n",
            "      Epoch    GPU_mem   box_loss   cls_loss   dfl_loss  Instances       Size\n"
          ]
        },
        {
          "output_type": "stream",
          "name": "stderr",
          "text": [
            "      4/100      2.63G      1.506      1.579       1.32        147        640: 100%|██████████| 6/6 [00:01<00:00,  4.85it/s]\n",
            "                 Class     Images  Instances      Box(P          R      mAP50  mAP50-95): 100%|██████████| 2/2 [00:00<00:00,  4.08it/s]"
          ]
        },
        {
          "output_type": "stream",
          "name": "stdout",
          "text": [
            "                   all         39        259     0.0216      0.977      0.864      0.395\n"
          ]
        },
        {
          "output_type": "stream",
          "name": "stderr",
          "text": [
            "\n"
          ]
        },
        {
          "output_type": "stream",
          "name": "stdout",
          "text": [
            "\n",
            "      Epoch    GPU_mem   box_loss   cls_loss   dfl_loss  Instances       Size\n"
          ]
        },
        {
          "output_type": "stream",
          "name": "stderr",
          "text": [
            "      5/100      2.64G      1.394       1.39      1.222        147        640: 100%|██████████| 6/6 [00:01<00:00,  4.43it/s]\n",
            "                 Class     Images  Instances      Box(P          R      mAP50  mAP50-95): 100%|██████████| 2/2 [00:00<00:00,  4.63it/s]"
          ]
        },
        {
          "output_type": "stream",
          "name": "stdout",
          "text": [
            "                   all         39        259     0.0218      0.985      0.944      0.524\n"
          ]
        },
        {
          "output_type": "stream",
          "name": "stderr",
          "text": [
            "\n"
          ]
        },
        {
          "output_type": "stream",
          "name": "stdout",
          "text": [
            "\n",
            "      Epoch    GPU_mem   box_loss   cls_loss   dfl_loss  Instances       Size\n"
          ]
        },
        {
          "output_type": "stream",
          "name": "stderr",
          "text": [
            "      6/100      2.66G      1.333      1.209      1.197        151        640: 100%|██████████| 6/6 [00:01<00:00,  4.57it/s]\n",
            "                 Class     Images  Instances      Box(P          R      mAP50  mAP50-95): 100%|██████████| 2/2 [00:00<00:00,  4.92it/s]"
          ]
        },
        {
          "output_type": "stream",
          "name": "stdout",
          "text": [
            "                   all         39        259      0.988      0.631      0.894      0.493\n"
          ]
        },
        {
          "output_type": "stream",
          "name": "stderr",
          "text": [
            "\n"
          ]
        },
        {
          "output_type": "stream",
          "name": "stdout",
          "text": [
            "\n",
            "      Epoch    GPU_mem   box_loss   cls_loss   dfl_loss  Instances       Size\n"
          ]
        },
        {
          "output_type": "stream",
          "name": "stderr",
          "text": [
            "      7/100      2.68G      1.382      1.175      1.197        188        640: 100%|██████████| 6/6 [00:01<00:00,  5.26it/s]\n",
            "                 Class     Images  Instances      Box(P          R      mAP50  mAP50-95): 100%|██████████| 2/2 [00:00<00:00,  3.29it/s]"
          ]
        },
        {
          "output_type": "stream",
          "name": "stdout",
          "text": [
            "                   all         39        259     0.0211      0.954      0.378      0.202\n"
          ]
        },
        {
          "output_type": "stream",
          "name": "stderr",
          "text": [
            "\n"
          ]
        },
        {
          "output_type": "stream",
          "name": "stdout",
          "text": [
            "\n",
            "      Epoch    GPU_mem   box_loss   cls_loss   dfl_loss  Instances       Size\n"
          ]
        },
        {
          "output_type": "stream",
          "name": "stderr",
          "text": [
            "      8/100      2.69G      1.392      1.219      1.219        167        640: 100%|██████████| 6/6 [00:01<00:00,  4.43it/s]\n",
            "                 Class     Images  Instances      Box(P          R      mAP50  mAP50-95): 100%|██████████| 2/2 [00:00<00:00,  2.27it/s]"
          ]
        },
        {
          "output_type": "stream",
          "name": "stdout",
          "text": [
            "                   all         39        259      0.976       0.47      0.923      0.503\n"
          ]
        },
        {
          "output_type": "stream",
          "name": "stderr",
          "text": [
            "\n"
          ]
        },
        {
          "output_type": "stream",
          "name": "stdout",
          "text": [
            "\n",
            "      Epoch    GPU_mem   box_loss   cls_loss   dfl_loss  Instances       Size\n"
          ]
        },
        {
          "output_type": "stream",
          "name": "stderr",
          "text": [
            "      9/100      2.71G      1.354      1.137       1.22        168        640: 100%|██████████| 6/6 [00:01<00:00,  3.85it/s]\n",
            "                 Class     Images  Instances      Box(P          R      mAP50  mAP50-95): 100%|██████████| 2/2 [00:00<00:00,  4.73it/s]"
          ]
        },
        {
          "output_type": "stream",
          "name": "stdout",
          "text": [
            "                   all         39        259      0.972      0.943       0.97      0.572\n"
          ]
        },
        {
          "output_type": "stream",
          "name": "stderr",
          "text": [
            "\n"
          ]
        },
        {
          "output_type": "stream",
          "name": "stdout",
          "text": [
            "\n",
            "      Epoch    GPU_mem   box_loss   cls_loss   dfl_loss  Instances       Size\n"
          ]
        },
        {
          "output_type": "stream",
          "name": "stderr",
          "text": [
            "     10/100      2.73G      1.358      1.082      1.205        155        640: 100%|██████████| 6/6 [00:01<00:00,  4.59it/s]\n",
            "                 Class     Images  Instances      Box(P          R      mAP50  mAP50-95): 100%|██████████| 2/2 [00:00<00:00,  4.25it/s]"
          ]
        },
        {
          "output_type": "stream",
          "name": "stdout",
          "text": [
            "                   all         39        259      0.948      0.913      0.955      0.543\n"
          ]
        },
        {
          "output_type": "stream",
          "name": "stderr",
          "text": [
            "\n"
          ]
        },
        {
          "output_type": "stream",
          "name": "stdout",
          "text": [
            "\n",
            "      Epoch    GPU_mem   box_loss   cls_loss   dfl_loss  Instances       Size\n"
          ]
        },
        {
          "output_type": "stream",
          "name": "stderr",
          "text": [
            "     11/100      2.75G      1.388      1.101      1.213        150        640: 100%|██████████| 6/6 [00:01<00:00,  4.81it/s]\n",
            "                 Class     Images  Instances      Box(P          R      mAP50  mAP50-95): 100%|██████████| 2/2 [00:00<00:00,  3.85it/s]"
          ]
        },
        {
          "output_type": "stream",
          "name": "stdout",
          "text": [
            "                   all         39        259      0.923      0.896      0.941      0.527\n"
          ]
        },
        {
          "output_type": "stream",
          "name": "stderr",
          "text": [
            "\n"
          ]
        },
        {
          "output_type": "stream",
          "name": "stdout",
          "text": [
            "\n",
            "      Epoch    GPU_mem   box_loss   cls_loss   dfl_loss  Instances       Size\n"
          ]
        },
        {
          "output_type": "stream",
          "name": "stderr",
          "text": [
            "     12/100      2.76G      1.351      1.001      1.176        169        640: 100%|██████████| 6/6 [00:01<00:00,  5.12it/s]\n",
            "                 Class     Images  Instances      Box(P          R      mAP50  mAP50-95): 100%|██████████| 2/2 [00:00<00:00,  3.97it/s]"
          ]
        },
        {
          "output_type": "stream",
          "name": "stdout",
          "text": [
            "                   all         39        259      0.913      0.932      0.953      0.537\n"
          ]
        },
        {
          "output_type": "stream",
          "name": "stderr",
          "text": [
            "\n"
          ]
        },
        {
          "output_type": "stream",
          "name": "stdout",
          "text": [
            "\n",
            "      Epoch    GPU_mem   box_loss   cls_loss   dfl_loss  Instances       Size\n"
          ]
        },
        {
          "output_type": "stream",
          "name": "stderr",
          "text": [
            "     13/100      2.78G      1.344      1.006      1.174        123        640: 100%|██████████| 6/6 [00:01<00:00,  4.85it/s]\n",
            "                 Class     Images  Instances      Box(P          R      mAP50  mAP50-95): 100%|██████████| 2/2 [00:00<00:00,  4.56it/s]"
          ]
        },
        {
          "output_type": "stream",
          "name": "stdout",
          "text": [
            "                   all         39        259      0.913      0.954      0.959      0.558\n"
          ]
        },
        {
          "output_type": "stream",
          "name": "stderr",
          "text": [
            "\n"
          ]
        },
        {
          "output_type": "stream",
          "name": "stdout",
          "text": [
            "\n",
            "      Epoch    GPU_mem   box_loss   cls_loss   dfl_loss  Instances       Size\n"
          ]
        },
        {
          "output_type": "stream",
          "name": "stderr",
          "text": [
            "     14/100      2.79G      1.339      1.016      1.186        206        640: 100%|██████████| 6/6 [00:01<00:00,  4.45it/s]\n",
            "                 Class     Images  Instances      Box(P          R      mAP50  mAP50-95): 100%|██████████| 2/2 [00:00<00:00,  2.49it/s]"
          ]
        },
        {
          "output_type": "stream",
          "name": "stdout",
          "text": [
            "                   all         39        259       0.96      0.928      0.971      0.576\n"
          ]
        },
        {
          "output_type": "stream",
          "name": "stderr",
          "text": [
            "\n"
          ]
        },
        {
          "output_type": "stream",
          "name": "stdout",
          "text": [
            "\n",
            "      Epoch    GPU_mem   box_loss   cls_loss   dfl_loss  Instances       Size\n"
          ]
        },
        {
          "output_type": "stream",
          "name": "stderr",
          "text": [
            "     15/100      2.81G      1.332      1.051      1.204        154        640: 100%|██████████| 6/6 [00:01<00:00,  4.09it/s]\n",
            "                 Class     Images  Instances      Box(P          R      mAP50  mAP50-95): 100%|██████████| 2/2 [00:00<00:00,  3.23it/s]"
          ]
        },
        {
          "output_type": "stream",
          "name": "stdout",
          "text": [
            "                   all         39        259       0.96      0.937      0.969      0.549\n"
          ]
        },
        {
          "output_type": "stream",
          "name": "stderr",
          "text": [
            "\n"
          ]
        },
        {
          "output_type": "stream",
          "name": "stdout",
          "text": [
            "\n",
            "      Epoch    GPU_mem   box_loss   cls_loss   dfl_loss  Instances       Size\n"
          ]
        },
        {
          "output_type": "stream",
          "name": "stderr",
          "text": [
            "     16/100      2.83G      1.337      1.019       1.15        182        640: 100%|██████████| 6/6 [00:01<00:00,  5.06it/s]\n",
            "                 Class     Images  Instances      Box(P          R      mAP50  mAP50-95): 100%|██████████| 2/2 [00:00<00:00,  4.65it/s]"
          ]
        },
        {
          "output_type": "stream",
          "name": "stdout",
          "text": [
            "                   all         39        259      0.961      0.945      0.978      0.589\n"
          ]
        },
        {
          "output_type": "stream",
          "name": "stderr",
          "text": [
            "\n"
          ]
        },
        {
          "output_type": "stream",
          "name": "stdout",
          "text": [
            "\n",
            "      Epoch    GPU_mem   box_loss   cls_loss   dfl_loss  Instances       Size\n"
          ]
        },
        {
          "output_type": "stream",
          "name": "stderr",
          "text": [
            "     17/100      2.85G      1.334     0.9972      1.179        164        640: 100%|██████████| 6/6 [00:01<00:00,  5.43it/s]\n",
            "                 Class     Images  Instances      Box(P          R      mAP50  mAP50-95): 100%|██████████| 2/2 [00:00<00:00,  4.31it/s]"
          ]
        },
        {
          "output_type": "stream",
          "name": "stdout",
          "text": [
            "                   all         39        259      0.959      0.938      0.975      0.585\n"
          ]
        },
        {
          "output_type": "stream",
          "name": "stderr",
          "text": [
            "\n"
          ]
        },
        {
          "output_type": "stream",
          "name": "stdout",
          "text": [
            "\n",
            "      Epoch    GPU_mem   box_loss   cls_loss   dfl_loss  Instances       Size\n"
          ]
        },
        {
          "output_type": "stream",
          "name": "stderr",
          "text": [
            "     18/100      2.87G      1.351     0.9813      1.172        184        640: 100%|██████████| 6/6 [00:01<00:00,  4.94it/s]\n",
            "                 Class     Images  Instances      Box(P          R      mAP50  mAP50-95): 100%|██████████| 2/2 [00:00<00:00,  5.06it/s]"
          ]
        },
        {
          "output_type": "stream",
          "name": "stdout",
          "text": [
            "                   all         39        259      0.968      0.938       0.98      0.572\n"
          ]
        },
        {
          "output_type": "stream",
          "name": "stderr",
          "text": [
            "\n"
          ]
        },
        {
          "output_type": "stream",
          "name": "stdout",
          "text": [
            "\n",
            "      Epoch    GPU_mem   box_loss   cls_loss   dfl_loss  Instances       Size\n"
          ]
        },
        {
          "output_type": "stream",
          "name": "stderr",
          "text": [
            "     19/100      2.88G      1.309     0.9364      1.146        142        640: 100%|██████████| 6/6 [00:01<00:00,  4.91it/s]\n",
            "                 Class     Images  Instances      Box(P          R      mAP50  mAP50-95): 100%|██████████| 2/2 [00:00<00:00,  5.14it/s]"
          ]
        },
        {
          "output_type": "stream",
          "name": "stdout",
          "text": [
            "                   all         39        259      0.959       0.95      0.978      0.571\n"
          ]
        },
        {
          "output_type": "stream",
          "name": "stderr",
          "text": [
            "\n"
          ]
        },
        {
          "output_type": "stream",
          "name": "stdout",
          "text": [
            "\n",
            "      Epoch    GPU_mem   box_loss   cls_loss   dfl_loss  Instances       Size\n"
          ]
        },
        {
          "output_type": "stream",
          "name": "stderr",
          "text": [
            "     20/100       2.9G      1.312     0.9635      1.164        206        640: 100%|██████████| 6/6 [00:01<00:00,  4.61it/s]\n",
            "                 Class     Images  Instances      Box(P          R      mAP50  mAP50-95): 100%|██████████| 2/2 [00:00<00:00,  3.05it/s]"
          ]
        },
        {
          "output_type": "stream",
          "name": "stdout",
          "text": [
            "                   all         39        259      0.924      0.954      0.973      0.557\n"
          ]
        },
        {
          "output_type": "stream",
          "name": "stderr",
          "text": [
            "\n"
          ]
        },
        {
          "output_type": "stream",
          "name": "stdout",
          "text": [
            "\n",
            "      Epoch    GPU_mem   box_loss   cls_loss   dfl_loss  Instances       Size\n"
          ]
        },
        {
          "output_type": "stream",
          "name": "stderr",
          "text": [
            "     21/100      2.92G      1.358      0.986      1.155        164        640: 100%|██████████| 6/6 [00:01<00:00,  3.51it/s]\n",
            "                 Class     Images  Instances      Box(P          R      mAP50  mAP50-95): 100%|██████████| 2/2 [00:00<00:00,  4.00it/s]"
          ]
        },
        {
          "output_type": "stream",
          "name": "stdout",
          "text": [
            "                   all         39        259      0.957      0.937      0.976      0.614\n"
          ]
        },
        {
          "output_type": "stream",
          "name": "stderr",
          "text": [
            "\n"
          ]
        },
        {
          "output_type": "stream",
          "name": "stdout",
          "text": [
            "\n",
            "      Epoch    GPU_mem   box_loss   cls_loss   dfl_loss  Instances       Size\n"
          ]
        },
        {
          "output_type": "stream",
          "name": "stderr",
          "text": [
            "     22/100      2.93G      1.278     0.9249      1.119        146        640: 100%|██████████| 6/6 [00:01<00:00,  4.83it/s]\n",
            "                 Class     Images  Instances      Box(P          R      mAP50  mAP50-95): 100%|██████████| 2/2 [00:00<00:00,  4.62it/s]"
          ]
        },
        {
          "output_type": "stream",
          "name": "stdout",
          "text": [
            "                   all         39        259       0.93       0.97      0.975      0.614\n"
          ]
        },
        {
          "output_type": "stream",
          "name": "stderr",
          "text": [
            "\n"
          ]
        },
        {
          "output_type": "stream",
          "name": "stdout",
          "text": [
            "\n",
            "      Epoch    GPU_mem   box_loss   cls_loss   dfl_loss  Instances       Size\n"
          ]
        },
        {
          "output_type": "stream",
          "name": "stderr",
          "text": [
            "     23/100      2.95G      1.321     0.9446      1.152        208        640: 100%|██████████| 6/6 [00:01<00:00,  5.19it/s]\n",
            "                 Class     Images  Instances      Box(P          R      mAP50  mAP50-95): 100%|██████████| 2/2 [00:00<00:00,  4.64it/s]"
          ]
        },
        {
          "output_type": "stream",
          "name": "stdout",
          "text": [
            "                   all         39        259      0.944       0.97      0.979      0.596\n"
          ]
        },
        {
          "output_type": "stream",
          "name": "stderr",
          "text": [
            "\n"
          ]
        },
        {
          "output_type": "stream",
          "name": "stdout",
          "text": [
            "\n",
            "      Epoch    GPU_mem   box_loss   cls_loss   dfl_loss  Instances       Size\n"
          ]
        },
        {
          "output_type": "stream",
          "name": "stderr",
          "text": [
            "     24/100      2.97G      1.275     0.9093      1.121        157        640: 100%|██████████| 6/6 [00:01<00:00,  4.82it/s]\n",
            "                 Class     Images  Instances      Box(P          R      mAP50  mAP50-95): 100%|██████████| 2/2 [00:00<00:00,  5.14it/s]"
          ]
        },
        {
          "output_type": "stream",
          "name": "stdout",
          "text": [
            "                   all         39        259      0.937      0.946       0.98       0.61\n"
          ]
        },
        {
          "output_type": "stream",
          "name": "stderr",
          "text": [
            "\n"
          ]
        },
        {
          "output_type": "stream",
          "name": "stdout",
          "text": [
            "\n",
            "      Epoch    GPU_mem   box_loss   cls_loss   dfl_loss  Instances       Size\n"
          ]
        },
        {
          "output_type": "stream",
          "name": "stderr",
          "text": [
            "     25/100      2.98G      1.295     0.9351      1.142        112        640: 100%|██████████| 6/6 [00:01<00:00,  5.08it/s]\n",
            "                 Class     Images  Instances      Box(P          R      mAP50  mAP50-95): 100%|██████████| 2/2 [00:00<00:00,  4.50it/s]"
          ]
        },
        {
          "output_type": "stream",
          "name": "stdout",
          "text": [
            "                   all         39        259      0.949      0.934      0.974      0.601\n"
          ]
        },
        {
          "output_type": "stream",
          "name": "stderr",
          "text": [
            "\n"
          ]
        },
        {
          "output_type": "stream",
          "name": "stdout",
          "text": [
            "\n",
            "      Epoch    GPU_mem   box_loss   cls_loss   dfl_loss  Instances       Size\n"
          ]
        },
        {
          "output_type": "stream",
          "name": "stderr",
          "text": [
            "     26/100         3G      1.356     0.9517      1.174        185        640: 100%|██████████| 6/6 [00:01<00:00,  4.57it/s]\n",
            "                 Class     Images  Instances      Box(P          R      mAP50  mAP50-95): 100%|██████████| 2/2 [00:00<00:00,  5.37it/s]"
          ]
        },
        {
          "output_type": "stream",
          "name": "stdout",
          "text": [
            "                   all         39        259      0.946      0.954       0.98      0.623\n"
          ]
        },
        {
          "output_type": "stream",
          "name": "stderr",
          "text": [
            "\n"
          ]
        },
        {
          "output_type": "stream",
          "name": "stdout",
          "text": [
            "\n",
            "      Epoch    GPU_mem   box_loss   cls_loss   dfl_loss  Instances       Size\n"
          ]
        },
        {
          "output_type": "stream",
          "name": "stderr",
          "text": [
            "     27/100      3.02G        1.3     0.9121      1.122        150        640: 100%|██████████| 6/6 [00:01<00:00,  3.41it/s]\n",
            "                 Class     Images  Instances      Box(P          R      mAP50  mAP50-95): 100%|██████████| 2/2 [00:00<00:00,  2.87it/s]"
          ]
        },
        {
          "output_type": "stream",
          "name": "stdout",
          "text": [
            "                   all         39        259      0.948      0.954      0.978      0.626\n"
          ]
        },
        {
          "output_type": "stream",
          "name": "stderr",
          "text": [
            "\n"
          ]
        },
        {
          "output_type": "stream",
          "name": "stdout",
          "text": [
            "\n",
            "      Epoch    GPU_mem   box_loss   cls_loss   dfl_loss  Instances       Size\n"
          ]
        },
        {
          "output_type": "stream",
          "name": "stderr",
          "text": [
            "     28/100      3.04G      1.265     0.9202      1.125        143        640: 100%|██████████| 6/6 [00:01<00:00,  4.79it/s]\n",
            "                 Class     Images  Instances      Box(P          R      mAP50  mAP50-95): 100%|██████████| 2/2 [00:00<00:00,  4.15it/s]"
          ]
        },
        {
          "output_type": "stream",
          "name": "stdout",
          "text": [
            "                   all         39        259      0.919       0.95      0.973       0.61\n"
          ]
        },
        {
          "output_type": "stream",
          "name": "stderr",
          "text": [
            "\n"
          ]
        },
        {
          "output_type": "stream",
          "name": "stdout",
          "text": [
            "\n",
            "      Epoch    GPU_mem   box_loss   cls_loss   dfl_loss  Instances       Size\n"
          ]
        },
        {
          "output_type": "stream",
          "name": "stderr",
          "text": [
            "     29/100      3.05G      1.267     0.8945      1.137        202        640: 100%|██████████| 6/6 [00:01<00:00,  4.83it/s]\n",
            "                 Class     Images  Instances      Box(P          R      mAP50  mAP50-95): 100%|██████████| 2/2 [00:00<00:00,  5.25it/s]"
          ]
        },
        {
          "output_type": "stream",
          "name": "stdout",
          "text": [
            "                   all         39        259      0.931      0.934      0.975      0.629\n"
          ]
        },
        {
          "output_type": "stream",
          "name": "stderr",
          "text": [
            "\n"
          ]
        },
        {
          "output_type": "stream",
          "name": "stdout",
          "text": [
            "\n",
            "      Epoch    GPU_mem   box_loss   cls_loss   dfl_loss  Instances       Size\n"
          ]
        },
        {
          "output_type": "stream",
          "name": "stderr",
          "text": [
            "     30/100      3.07G      1.278      0.924      1.132        171        640: 100%|██████████| 6/6 [00:01<00:00,  4.62it/s]\n",
            "                 Class     Images  Instances      Box(P          R      mAP50  mAP50-95): 100%|██████████| 2/2 [00:00<00:00,  5.79it/s]"
          ]
        },
        {
          "output_type": "stream",
          "name": "stdout",
          "text": [
            "                   all         39        259      0.928      0.938      0.975      0.627\n"
          ]
        },
        {
          "output_type": "stream",
          "name": "stderr",
          "text": [
            "\n"
          ]
        },
        {
          "output_type": "stream",
          "name": "stdout",
          "text": [
            "\n",
            "      Epoch    GPU_mem   box_loss   cls_loss   dfl_loss  Instances       Size\n"
          ]
        },
        {
          "output_type": "stream",
          "name": "stderr",
          "text": [
            "     31/100      3.09G      1.259     0.8674       1.13        150        640: 100%|██████████| 6/6 [00:01<00:00,  5.18it/s]\n",
            "                 Class     Images  Instances      Box(P          R      mAP50  mAP50-95): 100%|██████████| 2/2 [00:00<00:00,  3.75it/s]"
          ]
        },
        {
          "output_type": "stream",
          "name": "stdout",
          "text": [
            "                   all         39        259      0.947      0.927      0.976      0.633\n"
          ]
        },
        {
          "output_type": "stream",
          "name": "stderr",
          "text": [
            "\n"
          ]
        },
        {
          "output_type": "stream",
          "name": "stdout",
          "text": [
            "\n",
            "      Epoch    GPU_mem   box_loss   cls_loss   dfl_loss  Instances       Size\n"
          ]
        },
        {
          "output_type": "stream",
          "name": "stderr",
          "text": [
            "     32/100       3.1G      1.267     0.8756      1.146        157        640: 100%|██████████| 6/6 [00:01<00:00,  4.77it/s]\n",
            "                 Class     Images  Instances      Box(P          R      mAP50  mAP50-95): 100%|██████████| 2/2 [00:00<00:00,  4.80it/s]"
          ]
        },
        {
          "output_type": "stream",
          "name": "stdout",
          "text": [
            "                   all         39        259      0.956       0.92      0.976      0.629\n"
          ]
        },
        {
          "output_type": "stream",
          "name": "stderr",
          "text": [
            "\n"
          ]
        },
        {
          "output_type": "stream",
          "name": "stdout",
          "text": [
            "\n",
            "      Epoch    GPU_mem   box_loss   cls_loss   dfl_loss  Instances       Size\n"
          ]
        },
        {
          "output_type": "stream",
          "name": "stderr",
          "text": [
            "     33/100      3.12G      1.247     0.8105      1.123        150        640: 100%|██████████| 6/6 [00:01<00:00,  3.61it/s]\n",
            "                 Class     Images  Instances      Box(P          R      mAP50  mAP50-95): 100%|██████████| 2/2 [00:00<00:00,  2.22it/s]"
          ]
        },
        {
          "output_type": "stream",
          "name": "stdout",
          "text": [
            "                   all         39        259      0.943      0.942      0.977      0.658\n"
          ]
        },
        {
          "output_type": "stream",
          "name": "stderr",
          "text": [
            "\n"
          ]
        },
        {
          "output_type": "stream",
          "name": "stdout",
          "text": [
            "\n",
            "      Epoch    GPU_mem   box_loss   cls_loss   dfl_loss  Instances       Size\n"
          ]
        },
        {
          "output_type": "stream",
          "name": "stderr",
          "text": [
            "     34/100      3.14G      1.216     0.8166      1.071        221        640: 100%|██████████| 6/6 [00:01<00:00,  5.18it/s]\n",
            "                 Class     Images  Instances      Box(P          R      mAP50  mAP50-95): 100%|██████████| 2/2 [00:00<00:00,  4.16it/s]"
          ]
        },
        {
          "output_type": "stream",
          "name": "stdout",
          "text": [
            "                   all         39        259      0.958      0.946      0.975      0.635\n"
          ]
        },
        {
          "output_type": "stream",
          "name": "stderr",
          "text": [
            "\n"
          ]
        },
        {
          "output_type": "stream",
          "name": "stdout",
          "text": [
            "\n",
            "      Epoch    GPU_mem   box_loss   cls_loss   dfl_loss  Instances       Size\n"
          ]
        },
        {
          "output_type": "stream",
          "name": "stderr",
          "text": [
            "     35/100      3.16G      1.243      0.845      1.128        151        640: 100%|██████████| 6/6 [00:01<00:00,  5.28it/s]\n",
            "                 Class     Images  Instances      Box(P          R      mAP50  mAP50-95): 100%|██████████| 2/2 [00:00<00:00,  4.03it/s]"
          ]
        },
        {
          "output_type": "stream",
          "name": "stdout",
          "text": [
            "                   all         39        259       0.94      0.958      0.975      0.642\n"
          ]
        },
        {
          "output_type": "stream",
          "name": "stderr",
          "text": [
            "\n"
          ]
        },
        {
          "output_type": "stream",
          "name": "stdout",
          "text": [
            "\n",
            "      Epoch    GPU_mem   box_loss   cls_loss   dfl_loss  Instances       Size\n"
          ]
        },
        {
          "output_type": "stream",
          "name": "stderr",
          "text": [
            "     36/100      3.17G      1.261     0.8322      1.131        165        640: 100%|██████████| 6/6 [00:01<00:00,  4.88it/s]\n",
            "                 Class     Images  Instances      Box(P          R      mAP50  mAP50-95): 100%|██████████| 2/2 [00:00<00:00,  4.96it/s]"
          ]
        },
        {
          "output_type": "stream",
          "name": "stdout",
          "text": [
            "                   all         39        259      0.927      0.938      0.972      0.613\n"
          ]
        },
        {
          "output_type": "stream",
          "name": "stderr",
          "text": [
            "\n"
          ]
        },
        {
          "output_type": "stream",
          "name": "stdout",
          "text": [
            "\n",
            "      Epoch    GPU_mem   box_loss   cls_loss   dfl_loss  Instances       Size\n"
          ]
        },
        {
          "output_type": "stream",
          "name": "stderr",
          "text": [
            "     37/100      3.19G      1.241     0.8554      1.136        131        640: 100%|██████████| 6/6 [00:01<00:00,  4.96it/s]\n",
            "                 Class     Images  Instances      Box(P          R      mAP50  mAP50-95): 100%|██████████| 2/2 [00:00<00:00,  4.59it/s]"
          ]
        },
        {
          "output_type": "stream",
          "name": "stdout",
          "text": [
            "                   all         39        259      0.934       0.93      0.973      0.629\n"
          ]
        },
        {
          "output_type": "stream",
          "name": "stderr",
          "text": [
            "\n"
          ]
        },
        {
          "output_type": "stream",
          "name": "stdout",
          "text": [
            "\n",
            "      Epoch    GPU_mem   box_loss   cls_loss   dfl_loss  Instances       Size\n"
          ]
        },
        {
          "output_type": "stream",
          "name": "stderr",
          "text": [
            "     38/100      3.21G      1.233     0.8211      1.113        147        640: 100%|██████████| 6/6 [00:01<00:00,  4.63it/s]\n",
            "                 Class     Images  Instances      Box(P          R      mAP50  mAP50-95): 100%|██████████| 2/2 [00:00<00:00,  5.14it/s]"
          ]
        },
        {
          "output_type": "stream",
          "name": "stdout",
          "text": [
            "                   all         39        259      0.955      0.954      0.988      0.639\n"
          ]
        },
        {
          "output_type": "stream",
          "name": "stderr",
          "text": [
            "\n"
          ]
        },
        {
          "output_type": "stream",
          "name": "stdout",
          "text": [
            "\n",
            "      Epoch    GPU_mem   box_loss   cls_loss   dfl_loss  Instances       Size\n"
          ]
        },
        {
          "output_type": "stream",
          "name": "stderr",
          "text": [
            "     39/100      3.22G      1.214     0.8052      1.115        181        640: 100%|██████████| 6/6 [00:01<00:00,  3.62it/s]\n",
            "                 Class     Images  Instances      Box(P          R      mAP50  mAP50-95): 100%|██████████| 2/2 [00:00<00:00,  2.22it/s]"
          ]
        },
        {
          "output_type": "stream",
          "name": "stdout",
          "text": [
            "                   all         39        259      0.954       0.96      0.982      0.645\n"
          ]
        },
        {
          "output_type": "stream",
          "name": "stderr",
          "text": [
            "\n"
          ]
        },
        {
          "output_type": "stream",
          "name": "stdout",
          "text": [
            "\n",
            "      Epoch    GPU_mem   box_loss   cls_loss   dfl_loss  Instances       Size\n"
          ]
        },
        {
          "output_type": "stream",
          "name": "stderr",
          "text": [
            "     40/100      3.24G      1.217     0.8109       1.12        158        640: 100%|██████████| 6/6 [00:01<00:00,  3.81it/s]\n",
            "                 Class     Images  Instances      Box(P          R      mAP50  mAP50-95): 100%|██████████| 2/2 [00:00<00:00,  2.18it/s]"
          ]
        },
        {
          "output_type": "stream",
          "name": "stdout",
          "text": [
            "                   all         39        259      0.929       0.96      0.982      0.632\n"
          ]
        },
        {
          "output_type": "stream",
          "name": "stderr",
          "text": [
            "\n"
          ]
        },
        {
          "output_type": "stream",
          "name": "stdout",
          "text": [
            "\n",
            "      Epoch    GPU_mem   box_loss   cls_loss   dfl_loss  Instances       Size\n"
          ]
        },
        {
          "output_type": "stream",
          "name": "stderr",
          "text": [
            "     41/100      3.26G      1.185      0.828      1.127        169        640: 100%|██████████| 6/6 [00:01<00:00,  4.56it/s]\n",
            "                 Class     Images  Instances      Box(P          R      mAP50  mAP50-95): 100%|██████████| 2/2 [00:00<00:00,  4.97it/s]"
          ]
        },
        {
          "output_type": "stream",
          "name": "stdout",
          "text": [
            "                   all         39        259      0.938      0.934      0.977      0.617\n"
          ]
        },
        {
          "output_type": "stream",
          "name": "stderr",
          "text": [
            "\n"
          ]
        },
        {
          "output_type": "stream",
          "name": "stdout",
          "text": [
            "\n",
            "      Epoch    GPU_mem   box_loss   cls_loss   dfl_loss  Instances       Size\n"
          ]
        },
        {
          "output_type": "stream",
          "name": "stderr",
          "text": [
            "     42/100      3.28G      1.179     0.7971      1.091        140        640: 100%|██████████| 6/6 [00:01<00:00,  4.61it/s]\n",
            "                 Class     Images  Instances      Box(P          R      mAP50  mAP50-95): 100%|██████████| 2/2 [00:00<00:00,  5.01it/s]"
          ]
        },
        {
          "output_type": "stream",
          "name": "stdout",
          "text": [
            "                   all         39        259      0.933      0.974      0.975      0.663\n"
          ]
        },
        {
          "output_type": "stream",
          "name": "stderr",
          "text": [
            "\n"
          ]
        },
        {
          "output_type": "stream",
          "name": "stdout",
          "text": [
            "\n",
            "      Epoch    GPU_mem   box_loss   cls_loss   dfl_loss  Instances       Size\n"
          ]
        },
        {
          "output_type": "stream",
          "name": "stderr",
          "text": [
            "     43/100      3.29G      1.187     0.7805      1.095        128        640: 100%|██████████| 6/6 [00:01<00:00,  4.87it/s]\n",
            "                 Class     Images  Instances      Box(P          R      mAP50  mAP50-95): 100%|██████████| 2/2 [00:00<00:00,  4.40it/s]"
          ]
        },
        {
          "output_type": "stream",
          "name": "stdout",
          "text": [
            "                   all         39        259      0.931      0.985      0.975      0.643\n"
          ]
        },
        {
          "output_type": "stream",
          "name": "stderr",
          "text": [
            "\n"
          ]
        },
        {
          "output_type": "stream",
          "name": "stdout",
          "text": [
            "\n",
            "      Epoch    GPU_mem   box_loss   cls_loss   dfl_loss  Instances       Size\n"
          ]
        },
        {
          "output_type": "stream",
          "name": "stderr",
          "text": [
            "     44/100      3.31G      1.173       0.76       1.07        197        640: 100%|██████████| 6/6 [00:01<00:00,  4.59it/s]\n",
            "                 Class     Images  Instances      Box(P          R      mAP50  mAP50-95): 100%|██████████| 2/2 [00:00<00:00,  2.95it/s]"
          ]
        },
        {
          "output_type": "stream",
          "name": "stdout",
          "text": [
            "                   all         39        259      0.923      0.971       0.98      0.635\n"
          ]
        },
        {
          "output_type": "stream",
          "name": "stderr",
          "text": [
            "\n"
          ]
        },
        {
          "output_type": "stream",
          "name": "stdout",
          "text": [
            "\n",
            "      Epoch    GPU_mem   box_loss   cls_loss   dfl_loss  Instances       Size\n"
          ]
        },
        {
          "output_type": "stream",
          "name": "stderr",
          "text": [
            "     45/100      3.33G      1.198     0.7545      1.076        160        640: 100%|██████████| 6/6 [00:01<00:00,  3.52it/s]\n",
            "                 Class     Images  Instances      Box(P          R      mAP50  mAP50-95): 100%|██████████| 2/2 [00:00<00:00,  4.02it/s]"
          ]
        },
        {
          "output_type": "stream",
          "name": "stdout",
          "text": [
            "                   all         39        259      0.945      0.933      0.982       0.64\n"
          ]
        },
        {
          "output_type": "stream",
          "name": "stderr",
          "text": [
            "\n"
          ]
        },
        {
          "output_type": "stream",
          "name": "stdout",
          "text": [
            "\n",
            "      Epoch    GPU_mem   box_loss   cls_loss   dfl_loss  Instances       Size\n"
          ]
        },
        {
          "output_type": "stream",
          "name": "stderr",
          "text": [
            "     46/100      3.34G      1.181     0.7654       1.09        123        640: 100%|██████████| 6/6 [00:01<00:00,  4.73it/s]\n",
            "                 Class     Images  Instances      Box(P          R      mAP50  mAP50-95): 100%|██████████| 2/2 [00:00<00:00,  5.36it/s]"
          ]
        },
        {
          "output_type": "stream",
          "name": "stdout",
          "text": [
            "                   all         39        259       0.93      0.965      0.986      0.615\n"
          ]
        },
        {
          "output_type": "stream",
          "name": "stderr",
          "text": [
            "\n"
          ]
        },
        {
          "output_type": "stream",
          "name": "stdout",
          "text": [
            "\n",
            "      Epoch    GPU_mem   box_loss   cls_loss   dfl_loss  Instances       Size\n"
          ]
        },
        {
          "output_type": "stream",
          "name": "stderr",
          "text": [
            "     47/100      3.36G      1.217     0.7411      1.097        155        640: 100%|██████████| 6/6 [00:01<00:00,  4.87it/s]\n",
            "                 Class     Images  Instances      Box(P          R      mAP50  mAP50-95): 100%|██████████| 2/2 [00:00<00:00,  5.20it/s]"
          ]
        },
        {
          "output_type": "stream",
          "name": "stdout",
          "text": [
            "                   all         39        259      0.962      0.968      0.988      0.653\n"
          ]
        },
        {
          "output_type": "stream",
          "name": "stderr",
          "text": [
            "\n"
          ]
        },
        {
          "output_type": "stream",
          "name": "stdout",
          "text": [
            "\n",
            "      Epoch    GPU_mem   box_loss   cls_loss   dfl_loss  Instances       Size\n"
          ]
        },
        {
          "output_type": "stream",
          "name": "stderr",
          "text": [
            "     48/100      3.38G      1.176     0.7202      1.075        154        640: 100%|██████████| 6/6 [00:01<00:00,  4.79it/s]\n",
            "                 Class     Images  Instances      Box(P          R      mAP50  mAP50-95): 100%|██████████| 2/2 [00:00<00:00,  4.71it/s]"
          ]
        },
        {
          "output_type": "stream",
          "name": "stdout",
          "text": [
            "                   all         39        259      0.961      0.958      0.982      0.654\n"
          ]
        },
        {
          "output_type": "stream",
          "name": "stderr",
          "text": [
            "\n"
          ]
        },
        {
          "output_type": "stream",
          "name": "stdout",
          "text": [
            "\n",
            "      Epoch    GPU_mem   box_loss   cls_loss   dfl_loss  Instances       Size\n"
          ]
        },
        {
          "output_type": "stream",
          "name": "stderr",
          "text": [
            "     49/100      3.39G       1.16     0.7275      1.069        163        640: 100%|██████████| 6/6 [00:01<00:00,  4.98it/s]\n",
            "                 Class     Images  Instances      Box(P          R      mAP50  mAP50-95): 100%|██████████| 2/2 [00:00<00:00,  4.58it/s]"
          ]
        },
        {
          "output_type": "stream",
          "name": "stdout",
          "text": [
            "                   all         39        259      0.951      0.954      0.986      0.636\n"
          ]
        },
        {
          "output_type": "stream",
          "name": "stderr",
          "text": [
            "\n"
          ]
        },
        {
          "output_type": "stream",
          "name": "stdout",
          "text": [
            "\n",
            "      Epoch    GPU_mem   box_loss   cls_loss   dfl_loss  Instances       Size\n"
          ]
        },
        {
          "output_type": "stream",
          "name": "stderr",
          "text": [
            "     50/100      3.41G      1.186     0.7299      1.078        113        640: 100%|██████████| 6/6 [00:01<00:00,  4.63it/s]\n",
            "                 Class     Images  Instances      Box(P          R      mAP50  mAP50-95): 100%|██████████| 2/2 [00:00<00:00,  4.05it/s]"
          ]
        },
        {
          "output_type": "stream",
          "name": "stdout",
          "text": [
            "                   all         39        259      0.958      0.957      0.983      0.637\n"
          ]
        },
        {
          "output_type": "stream",
          "name": "stderr",
          "text": [
            "\n"
          ]
        },
        {
          "output_type": "stream",
          "name": "stdout",
          "text": [
            "\n",
            "      Epoch    GPU_mem   box_loss   cls_loss   dfl_loss  Instances       Size\n"
          ]
        },
        {
          "output_type": "stream",
          "name": "stderr",
          "text": [
            "     51/100      3.43G      1.136     0.7108      1.071        142        640: 100%|██████████| 6/6 [00:01<00:00,  3.88it/s]\n",
            "                 Class     Images  Instances      Box(P          R      mAP50  mAP50-95): 100%|██████████| 2/2 [00:00<00:00,  2.57it/s]"
          ]
        },
        {
          "output_type": "stream",
          "name": "stdout",
          "text": [
            "                   all         39        259      0.955      0.954      0.984      0.682\n"
          ]
        },
        {
          "output_type": "stream",
          "name": "stderr",
          "text": [
            "\n"
          ]
        },
        {
          "output_type": "stream",
          "name": "stdout",
          "text": [
            "\n",
            "      Epoch    GPU_mem   box_loss   cls_loss   dfl_loss  Instances       Size\n"
          ]
        },
        {
          "output_type": "stream",
          "name": "stderr",
          "text": [
            "     52/100      3.45G      1.137     0.7074      1.075        191        640: 100%|██████████| 6/6 [00:01<00:00,  5.16it/s]\n",
            "                 Class     Images  Instances      Box(P          R      mAP50  mAP50-95): 100%|██████████| 2/2 [00:00<00:00,  3.88it/s]"
          ]
        },
        {
          "output_type": "stream",
          "name": "stdout",
          "text": [
            "                   all         39        259      0.965      0.963      0.983       0.64\n"
          ]
        },
        {
          "output_type": "stream",
          "name": "stderr",
          "text": [
            "\n"
          ]
        },
        {
          "output_type": "stream",
          "name": "stdout",
          "text": [
            "\n",
            "      Epoch    GPU_mem   box_loss   cls_loss   dfl_loss  Instances       Size\n"
          ]
        },
        {
          "output_type": "stream",
          "name": "stderr",
          "text": [
            "     53/100      3.46G      1.127     0.6859      1.066        159        640: 100%|██████████| 6/6 [00:01<00:00,  4.90it/s]\n",
            "                 Class     Images  Instances      Box(P          R      mAP50  mAP50-95): 100%|██████████| 2/2 [00:00<00:00,  4.26it/s]"
          ]
        },
        {
          "output_type": "stream",
          "name": "stdout",
          "text": [
            "                   all         39        259      0.959      0.965      0.985      0.679\n"
          ]
        },
        {
          "output_type": "stream",
          "name": "stderr",
          "text": [
            "\n"
          ]
        },
        {
          "output_type": "stream",
          "name": "stdout",
          "text": [
            "\n",
            "      Epoch    GPU_mem   box_loss   cls_loss   dfl_loss  Instances       Size\n"
          ]
        },
        {
          "output_type": "stream",
          "name": "stderr",
          "text": [
            "     54/100      3.48G      1.169     0.7085      1.077        137        640: 100%|██████████| 6/6 [00:01<00:00,  4.89it/s]\n",
            "                 Class     Images  Instances      Box(P          R      mAP50  mAP50-95): 100%|██████████| 2/2 [00:00<00:00,  4.92it/s]"
          ]
        },
        {
          "output_type": "stream",
          "name": "stdout",
          "text": [
            "                   all         39        259      0.955      0.983      0.984      0.646\n"
          ]
        },
        {
          "output_type": "stream",
          "name": "stderr",
          "text": [
            "\n"
          ]
        },
        {
          "output_type": "stream",
          "name": "stdout",
          "text": [
            "\n",
            "      Epoch    GPU_mem   box_loss   cls_loss   dfl_loss  Instances       Size\n"
          ]
        },
        {
          "output_type": "stream",
          "name": "stderr",
          "text": [
            "     55/100       3.5G      1.176     0.6927      1.056        170        640: 100%|██████████| 6/6 [00:01<00:00,  4.87it/s]\n",
            "                 Class     Images  Instances      Box(P          R      mAP50  mAP50-95): 100%|██████████| 2/2 [00:00<00:00,  5.13it/s]"
          ]
        },
        {
          "output_type": "stream",
          "name": "stdout",
          "text": [
            "                   all         39        259      0.955      0.969      0.983      0.615\n"
          ]
        },
        {
          "output_type": "stream",
          "name": "stderr",
          "text": [
            "\n"
          ]
        },
        {
          "output_type": "stream",
          "name": "stdout",
          "text": [
            "\n",
            "      Epoch    GPU_mem   box_loss   cls_loss   dfl_loss  Instances       Size\n"
          ]
        },
        {
          "output_type": "stream",
          "name": "stderr",
          "text": [
            "     56/100      3.51G      1.129     0.6741      1.057        160        640: 100%|██████████| 6/6 [00:01<00:00,  4.68it/s]\n",
            "                 Class     Images  Instances      Box(P          R      mAP50  mAP50-95): 100%|██████████| 2/2 [00:00<00:00,  4.01it/s]"
          ]
        },
        {
          "output_type": "stream",
          "name": "stdout",
          "text": [
            "                   all         39        259      0.962      0.979      0.985      0.646\n"
          ]
        },
        {
          "output_type": "stream",
          "name": "stderr",
          "text": [
            "\n"
          ]
        },
        {
          "output_type": "stream",
          "name": "stdout",
          "text": [
            "\n",
            "      Epoch    GPU_mem   box_loss   cls_loss   dfl_loss  Instances       Size\n"
          ]
        },
        {
          "output_type": "stream",
          "name": "stderr",
          "text": [
            "     57/100      3.53G      1.106     0.6837       1.06        180        640: 100%|██████████| 6/6 [00:01<00:00,  3.64it/s]\n",
            "                 Class     Images  Instances      Box(P          R      mAP50  mAP50-95): 100%|██████████| 2/2 [00:00<00:00,  2.60it/s]"
          ]
        },
        {
          "output_type": "stream",
          "name": "stdout",
          "text": [
            "                   all         39        259      0.951      0.979      0.985      0.629\n"
          ]
        },
        {
          "output_type": "stream",
          "name": "stderr",
          "text": [
            "\n"
          ]
        },
        {
          "output_type": "stream",
          "name": "stdout",
          "text": [
            "\n",
            "      Epoch    GPU_mem   box_loss   cls_loss   dfl_loss  Instances       Size\n"
          ]
        },
        {
          "output_type": "stream",
          "name": "stderr",
          "text": [
            "     58/100      3.55G      1.116     0.6919      1.053        181        640: 100%|██████████| 6/6 [00:01<00:00,  4.74it/s]\n",
            "                 Class     Images  Instances      Box(P          R      mAP50  mAP50-95): 100%|██████████| 2/2 [00:00<00:00,  4.86it/s]"
          ]
        },
        {
          "output_type": "stream",
          "name": "stdout",
          "text": [
            "                   all         39        259      0.966      0.969       0.99      0.689\n"
          ]
        },
        {
          "output_type": "stream",
          "name": "stderr",
          "text": [
            "\n"
          ]
        },
        {
          "output_type": "stream",
          "name": "stdout",
          "text": [
            "\n",
            "      Epoch    GPU_mem   box_loss   cls_loss   dfl_loss  Instances       Size\n"
          ]
        },
        {
          "output_type": "stream",
          "name": "stderr",
          "text": [
            "     59/100      3.57G      1.121     0.6606      1.055        121        640: 100%|██████████| 6/6 [00:01<00:00,  4.83it/s]\n",
            "                 Class     Images  Instances      Box(P          R      mAP50  mAP50-95): 100%|██████████| 2/2 [00:00<00:00,  5.11it/s]"
          ]
        },
        {
          "output_type": "stream",
          "name": "stdout",
          "text": [
            "                   all         39        259      0.958      0.976      0.989      0.696\n"
          ]
        },
        {
          "output_type": "stream",
          "name": "stderr",
          "text": [
            "\n"
          ]
        },
        {
          "output_type": "stream",
          "name": "stdout",
          "text": [
            "\n",
            "      Epoch    GPU_mem   box_loss   cls_loss   dfl_loss  Instances       Size\n"
          ]
        },
        {
          "output_type": "stream",
          "name": "stderr",
          "text": [
            "     60/100      3.58G      1.141      0.668      1.059        160        640: 100%|██████████| 6/6 [00:01<00:00,  5.00it/s]\n",
            "                 Class     Images  Instances      Box(P          R      mAP50  mAP50-95): 100%|██████████| 2/2 [00:00<00:00,  4.07it/s]"
          ]
        },
        {
          "output_type": "stream",
          "name": "stdout",
          "text": [
            "                   all         39        259      0.973      0.973      0.989      0.674\n"
          ]
        },
        {
          "output_type": "stream",
          "name": "stderr",
          "text": [
            "\n"
          ]
        },
        {
          "output_type": "stream",
          "name": "stdout",
          "text": [
            "\n",
            "      Epoch    GPU_mem   box_loss   cls_loss   dfl_loss  Instances       Size\n"
          ]
        },
        {
          "output_type": "stream",
          "name": "stderr",
          "text": [
            "     61/100       3.6G      1.159     0.6606      1.065        168        640: 100%|██████████| 6/6 [00:01<00:00,  5.14it/s]\n",
            "                 Class     Images  Instances      Box(P          R      mAP50  mAP50-95): 100%|██████████| 2/2 [00:00<00:00,  4.36it/s]"
          ]
        },
        {
          "output_type": "stream",
          "name": "stdout",
          "text": [
            "                   all         39        259      0.977      0.969      0.992        0.7\n"
          ]
        },
        {
          "output_type": "stream",
          "name": "stderr",
          "text": [
            "\n"
          ]
        },
        {
          "output_type": "stream",
          "name": "stdout",
          "text": [
            "\n",
            "      Epoch    GPU_mem   box_loss   cls_loss   dfl_loss  Instances       Size\n"
          ]
        },
        {
          "output_type": "stream",
          "name": "stderr",
          "text": [
            "     62/100      3.62G      1.191     0.7099      1.108        176        640: 100%|██████████| 6/6 [00:01<00:00,  4.76it/s]\n",
            "                 Class     Images  Instances      Box(P          R      mAP50  mAP50-95): 100%|██████████| 2/2 [00:00<00:00,  5.84it/s]"
          ]
        },
        {
          "output_type": "stream",
          "name": "stdout",
          "text": [
            "                   all         39        259      0.973      0.974      0.991      0.712\n"
          ]
        },
        {
          "output_type": "stream",
          "name": "stderr",
          "text": [
            "\n"
          ]
        },
        {
          "output_type": "stream",
          "name": "stdout",
          "text": [
            "\n",
            "      Epoch    GPU_mem   box_loss   cls_loss   dfl_loss  Instances       Size\n"
          ]
        },
        {
          "output_type": "stream",
          "name": "stderr",
          "text": [
            "     63/100      3.63G      1.093     0.6446      1.048        174        640: 100%|██████████| 6/6 [00:01<00:00,  3.61it/s]\n",
            "                 Class     Images  Instances      Box(P          R      mAP50  mAP50-95): 100%|██████████| 2/2 [00:00<00:00,  2.19it/s]"
          ]
        },
        {
          "output_type": "stream",
          "name": "stdout",
          "text": [
            "                   all         39        259      0.984      0.962      0.992      0.718\n"
          ]
        },
        {
          "output_type": "stream",
          "name": "stderr",
          "text": [
            "\n"
          ]
        },
        {
          "output_type": "stream",
          "name": "stdout",
          "text": [
            "\n",
            "      Epoch    GPU_mem   box_loss   cls_loss   dfl_loss  Instances       Size\n"
          ]
        },
        {
          "output_type": "stream",
          "name": "stderr",
          "text": [
            "     64/100      3.65G      1.111     0.6878      1.052        135        640: 100%|██████████| 6/6 [00:01<00:00,  4.64it/s]\n",
            "                 Class     Images  Instances      Box(P          R      mAP50  mAP50-95): 100%|██████████| 2/2 [00:00<00:00,  5.29it/s]"
          ]
        },
        {
          "output_type": "stream",
          "name": "stdout",
          "text": [
            "                   all         39        259      0.953      0.985      0.982      0.721\n"
          ]
        },
        {
          "output_type": "stream",
          "name": "stderr",
          "text": [
            "\n"
          ]
        },
        {
          "output_type": "stream",
          "name": "stdout",
          "text": [
            "\n",
            "      Epoch    GPU_mem   box_loss   cls_loss   dfl_loss  Instances       Size\n"
          ]
        },
        {
          "output_type": "stream",
          "name": "stderr",
          "text": [
            "     65/100      3.67G      1.067     0.6598      1.051        175        640: 100%|██████████| 6/6 [00:01<00:00,  5.01it/s]\n",
            "                 Class     Images  Instances      Box(P          R      mAP50  mAP50-95): 100%|██████████| 2/2 [00:00<00:00,  4.64it/s]"
          ]
        },
        {
          "output_type": "stream",
          "name": "stdout",
          "text": [
            "                   all         39        259      0.977      0.973       0.99      0.707\n"
          ]
        },
        {
          "output_type": "stream",
          "name": "stderr",
          "text": [
            "\n"
          ]
        },
        {
          "output_type": "stream",
          "name": "stdout",
          "text": [
            "\n",
            "      Epoch    GPU_mem   box_loss   cls_loss   dfl_loss  Instances       Size\n"
          ]
        },
        {
          "output_type": "stream",
          "name": "stderr",
          "text": [
            "     66/100      3.69G      1.098     0.6657      1.061        153        640: 100%|██████████| 6/6 [00:01<00:00,  4.67it/s]\n",
            "                 Class     Images  Instances      Box(P          R      mAP50  mAP50-95): 100%|██████████| 2/2 [00:00<00:00,  5.34it/s]"
          ]
        },
        {
          "output_type": "stream",
          "name": "stdout",
          "text": [
            "                   all         39        259      0.967      0.981      0.991      0.701\n"
          ]
        },
        {
          "output_type": "stream",
          "name": "stderr",
          "text": [
            "\n"
          ]
        },
        {
          "output_type": "stream",
          "name": "stdout",
          "text": [
            "\n",
            "      Epoch    GPU_mem   box_loss   cls_loss   dfl_loss  Instances       Size\n"
          ]
        },
        {
          "output_type": "stream",
          "name": "stderr",
          "text": [
            "     67/100       3.7G      1.082     0.6481      1.055        136        640: 100%|██████████| 6/6 [00:01<00:00,  4.98it/s]\n",
            "                 Class     Images  Instances      Box(P          R      mAP50  mAP50-95): 100%|██████████| 2/2 [00:00<00:00,  5.24it/s]"
          ]
        },
        {
          "output_type": "stream",
          "name": "stdout",
          "text": [
            "                   all         39        259      0.969      0.992      0.993      0.716\n"
          ]
        },
        {
          "output_type": "stream",
          "name": "stderr",
          "text": [
            "\n"
          ]
        },
        {
          "output_type": "stream",
          "name": "stdout",
          "text": [
            "\n",
            "      Epoch    GPU_mem   box_loss   cls_loss   dfl_loss  Instances       Size\n"
          ]
        },
        {
          "output_type": "stream",
          "name": "stderr",
          "text": [
            "     68/100      3.72G      1.071      0.645       1.04        195        640: 100%|██████████| 6/6 [00:01<00:00,  4.74it/s]\n",
            "                 Class     Images  Instances      Box(P          R      mAP50  mAP50-95): 100%|██████████| 2/2 [00:00<00:00,  4.22it/s]"
          ]
        },
        {
          "output_type": "stream",
          "name": "stdout",
          "text": [
            "                   all         39        259      0.982      0.931      0.979      0.699\n"
          ]
        },
        {
          "output_type": "stream",
          "name": "stderr",
          "text": [
            "\n"
          ]
        },
        {
          "output_type": "stream",
          "name": "stdout",
          "text": [
            "\n",
            "      Epoch    GPU_mem   box_loss   cls_loss   dfl_loss  Instances       Size\n"
          ]
        },
        {
          "output_type": "stream",
          "name": "stderr",
          "text": [
            "     69/100      3.74G       1.04     0.6157      1.029        154        640: 100%|██████████| 6/6 [00:01<00:00,  3.80it/s]\n",
            "                 Class     Images  Instances      Box(P          R      mAP50  mAP50-95): 100%|██████████| 2/2 [00:00<00:00,  2.37it/s]"
          ]
        },
        {
          "output_type": "stream",
          "name": "stdout",
          "text": [
            "                   all         39        259      0.975      0.927      0.972        0.7\n"
          ]
        },
        {
          "output_type": "stream",
          "name": "stderr",
          "text": [
            "\n"
          ]
        },
        {
          "output_type": "stream",
          "name": "stdout",
          "text": [
            "\n",
            "      Epoch    GPU_mem   box_loss   cls_loss   dfl_loss  Instances       Size\n"
          ]
        },
        {
          "output_type": "stream",
          "name": "stderr",
          "text": [
            "     70/100      3.75G      1.032     0.6036      1.029        167        640: 100%|██████████| 6/6 [00:01<00:00,  4.80it/s]\n",
            "                 Class     Images  Instances      Box(P          R      mAP50  mAP50-95): 100%|██████████| 2/2 [00:00<00:00,  4.76it/s]"
          ]
        },
        {
          "output_type": "stream",
          "name": "stdout",
          "text": [
            "                   all         39        259      0.983      0.938       0.98      0.712\n"
          ]
        },
        {
          "output_type": "stream",
          "name": "stderr",
          "text": [
            "\n"
          ]
        },
        {
          "output_type": "stream",
          "name": "stdout",
          "text": [
            "\n",
            "      Epoch    GPU_mem   box_loss   cls_loss   dfl_loss  Instances       Size\n"
          ]
        },
        {
          "output_type": "stream",
          "name": "stderr",
          "text": [
            "     71/100      3.77G      1.055     0.6243      1.022        169        640: 100%|██████████| 6/6 [00:01<00:00,  4.71it/s]\n",
            "                 Class     Images  Instances      Box(P          R      mAP50  mAP50-95): 100%|██████████| 2/2 [00:00<00:00,  4.07it/s]"
          ]
        },
        {
          "output_type": "stream",
          "name": "stdout",
          "text": [
            "                   all         39        259      0.988      0.966      0.992      0.724\n"
          ]
        },
        {
          "output_type": "stream",
          "name": "stderr",
          "text": [
            "\n"
          ]
        },
        {
          "output_type": "stream",
          "name": "stdout",
          "text": [
            "\n",
            "      Epoch    GPU_mem   box_loss   cls_loss   dfl_loss  Instances       Size\n"
          ]
        },
        {
          "output_type": "stream",
          "name": "stderr",
          "text": [
            "     72/100      3.79G      1.053     0.5952      1.019        162        640: 100%|██████████| 6/6 [00:01<00:00,  4.78it/s]\n",
            "                 Class     Images  Instances      Box(P          R      mAP50  mAP50-95): 100%|██████████| 2/2 [00:00<00:00,  5.72it/s]"
          ]
        },
        {
          "output_type": "stream",
          "name": "stdout",
          "text": [
            "                   all         39        259       0.99      0.977      0.994      0.726\n"
          ]
        },
        {
          "output_type": "stream",
          "name": "stderr",
          "text": [
            "\n"
          ]
        },
        {
          "output_type": "stream",
          "name": "stdout",
          "text": [
            "\n",
            "      Epoch    GPU_mem   box_loss   cls_loss   dfl_loss  Instances       Size\n"
          ]
        },
        {
          "output_type": "stream",
          "name": "stderr",
          "text": [
            "     73/100       3.8G      1.017     0.5973      1.023        153        640: 100%|██████████| 6/6 [00:01<00:00,  5.13it/s]\n",
            "                 Class     Images  Instances      Box(P          R      mAP50  mAP50-95): 100%|██████████| 2/2 [00:00<00:00,  4.47it/s]"
          ]
        },
        {
          "output_type": "stream",
          "name": "stdout",
          "text": [
            "                   all         39        259      0.992      0.973      0.994      0.733\n"
          ]
        },
        {
          "output_type": "stream",
          "name": "stderr",
          "text": [
            "\n"
          ]
        },
        {
          "output_type": "stream",
          "name": "stdout",
          "text": [
            "\n",
            "      Epoch    GPU_mem   box_loss   cls_loss   dfl_loss  Instances       Size\n"
          ]
        },
        {
          "output_type": "stream",
          "name": "stderr",
          "text": [
            "     74/100      3.82G      1.033     0.6245      1.023        139        640: 100%|██████████| 6/6 [00:01<00:00,  4.77it/s]\n",
            "                 Class     Images  Instances      Box(P          R      mAP50  mAP50-95): 100%|██████████| 2/2 [00:00<00:00,  5.60it/s]"
          ]
        },
        {
          "output_type": "stream",
          "name": "stdout",
          "text": [
            "                   all         39        259      0.983      0.981      0.994      0.737\n"
          ]
        },
        {
          "output_type": "stream",
          "name": "stderr",
          "text": [
            "\n"
          ]
        },
        {
          "output_type": "stream",
          "name": "stdout",
          "text": [
            "\n",
            "      Epoch    GPU_mem   box_loss   cls_loss   dfl_loss  Instances       Size\n"
          ]
        },
        {
          "output_type": "stream",
          "name": "stderr",
          "text": [
            "     75/100      3.84G      1.029     0.6359      1.067        109        640: 100%|██████████| 6/6 [00:01<00:00,  3.94it/s]\n",
            "                 Class     Images  Instances      Box(P          R      mAP50  mAP50-95): 100%|██████████| 2/2 [00:00<00:00,  2.45it/s]"
          ]
        },
        {
          "output_type": "stream",
          "name": "stdout",
          "text": [
            "                   all         39        259      0.992      0.975      0.994      0.735\n"
          ]
        },
        {
          "output_type": "stream",
          "name": "stderr",
          "text": [
            "\n"
          ]
        },
        {
          "output_type": "stream",
          "name": "stdout",
          "text": [
            "\n",
            "      Epoch    GPU_mem   box_loss   cls_loss   dfl_loss  Instances       Size\n"
          ]
        },
        {
          "output_type": "stream",
          "name": "stderr",
          "text": [
            "     76/100      3.86G      1.018     0.5824      1.034        147        640: 100%|██████████| 6/6 [00:01<00:00,  4.50it/s]\n",
            "                 Class     Images  Instances      Box(P          R      mAP50  mAP50-95): 100%|██████████| 2/2 [00:00<00:00,  5.44it/s]"
          ]
        },
        {
          "output_type": "stream",
          "name": "stdout",
          "text": [
            "                   all         39        259      0.992      0.974      0.994      0.738\n"
          ]
        },
        {
          "output_type": "stream",
          "name": "stderr",
          "text": [
            "\n"
          ]
        },
        {
          "output_type": "stream",
          "name": "stdout",
          "text": [
            "\n",
            "      Epoch    GPU_mem   box_loss   cls_loss   dfl_loss  Instances       Size\n"
          ]
        },
        {
          "output_type": "stream",
          "name": "stderr",
          "text": [
            "     77/100      3.87G      1.019     0.5847      1.018        161        640: 100%|██████████| 6/6 [00:01<00:00,  5.08it/s]\n",
            "                 Class     Images  Instances      Box(P          R      mAP50  mAP50-95): 100%|██████████| 2/2 [00:00<00:00,  4.90it/s]"
          ]
        },
        {
          "output_type": "stream",
          "name": "stdout",
          "text": [
            "                   all         39        259      0.983      0.977      0.994      0.749\n"
          ]
        },
        {
          "output_type": "stream",
          "name": "stderr",
          "text": [
            "\n"
          ]
        },
        {
          "output_type": "stream",
          "name": "stdout",
          "text": [
            "\n",
            "      Epoch    GPU_mem   box_loss   cls_loss   dfl_loss  Instances       Size\n"
          ]
        },
        {
          "output_type": "stream",
          "name": "stderr",
          "text": [
            "     78/100      3.89G     0.9981     0.5713      1.004        159        640: 100%|██████████| 6/6 [00:01<00:00,  4.63it/s]\n",
            "                 Class     Images  Instances      Box(P          R      mAP50  mAP50-95): 100%|██████████| 2/2 [00:00<00:00,  5.59it/s]"
          ]
        },
        {
          "output_type": "stream",
          "name": "stdout",
          "text": [
            "                   all         39        259      0.981      0.984      0.991      0.761\n"
          ]
        },
        {
          "output_type": "stream",
          "name": "stderr",
          "text": [
            "\n"
          ]
        },
        {
          "output_type": "stream",
          "name": "stdout",
          "text": [
            "\n",
            "      Epoch    GPU_mem   box_loss   cls_loss   dfl_loss  Instances       Size\n"
          ]
        },
        {
          "output_type": "stream",
          "name": "stderr",
          "text": [
            "     79/100      3.91G      0.999     0.5827      1.009        125        640: 100%|██████████| 6/6 [00:01<00:00,  4.77it/s]\n",
            "                 Class     Images  Instances      Box(P          R      mAP50  mAP50-95): 100%|██████████| 2/2 [00:00<00:00,  4.93it/s]"
          ]
        },
        {
          "output_type": "stream",
          "name": "stdout",
          "text": [
            "                   all         39        259      0.981      0.984      0.992      0.762\n"
          ]
        },
        {
          "output_type": "stream",
          "name": "stderr",
          "text": [
            "\n"
          ]
        },
        {
          "output_type": "stream",
          "name": "stdout",
          "text": [
            "\n",
            "      Epoch    GPU_mem   box_loss   cls_loss   dfl_loss  Instances       Size\n"
          ]
        },
        {
          "output_type": "stream",
          "name": "stderr",
          "text": [
            "     80/100      3.92G     0.9661     0.5576      1.014        132        640: 100%|██████████| 6/6 [00:01<00:00,  4.79it/s]\n",
            "                 Class     Images  Instances      Box(P          R      mAP50  mAP50-95): 100%|██████████| 2/2 [00:00<00:00,  5.68it/s]"
          ]
        },
        {
          "output_type": "stream",
          "name": "stdout",
          "text": [
            "                   all         39        259      0.988      0.988      0.994      0.743\n"
          ]
        },
        {
          "output_type": "stream",
          "name": "stderr",
          "text": [
            "\n"
          ]
        },
        {
          "output_type": "stream",
          "name": "stdout",
          "text": [
            "\n",
            "      Epoch    GPU_mem   box_loss   cls_loss   dfl_loss  Instances       Size\n"
          ]
        },
        {
          "output_type": "stream",
          "name": "stderr",
          "text": [
            "     81/100      3.94G     0.9933     0.5719      1.018        182        640: 100%|██████████| 6/6 [00:01<00:00,  4.39it/s]\n",
            "                 Class     Images  Instances      Box(P          R      mAP50  mAP50-95): 100%|██████████| 2/2 [00:00<00:00,  2.62it/s]\n"
          ]
        },
        {
          "output_type": "stream",
          "name": "stdout",
          "text": [
            "                   all         39        259      0.987      0.988      0.994       0.74\n",
            "\n",
            "      Epoch    GPU_mem   box_loss   cls_loss   dfl_loss  Instances       Size\n"
          ]
        },
        {
          "output_type": "stream",
          "name": "stderr",
          "text": [
            "     82/100      3.96G     0.9867     0.5774      1.013        174        640: 100%|██████████| 6/6 [00:01<00:00,  3.88it/s]\n",
            "                 Class     Images  Instances      Box(P          R      mAP50  mAP50-95): 100%|██████████| 2/2 [00:00<00:00,  3.63it/s]"
          ]
        },
        {
          "output_type": "stream",
          "name": "stdout",
          "text": [
            "                   all         39        259      0.981      0.982      0.986       0.76\n"
          ]
        },
        {
          "output_type": "stream",
          "name": "stderr",
          "text": [
            "\n"
          ]
        },
        {
          "output_type": "stream",
          "name": "stdout",
          "text": [
            "\n",
            "      Epoch    GPU_mem   box_loss   cls_loss   dfl_loss  Instances       Size\n"
          ]
        },
        {
          "output_type": "stream",
          "name": "stderr",
          "text": [
            "     83/100      3.97G      1.008     0.5645      1.031        138        640: 100%|██████████| 6/6 [00:01<00:00,  4.58it/s]\n",
            "                 Class     Images  Instances      Box(P          R      mAP50  mAP50-95): 100%|██████████| 2/2 [00:00<00:00,  5.31it/s]"
          ]
        },
        {
          "output_type": "stream",
          "name": "stdout",
          "text": [
            "                   all         39        259      0.983      0.985      0.987       0.76\n"
          ]
        },
        {
          "output_type": "stream",
          "name": "stderr",
          "text": [
            "\n"
          ]
        },
        {
          "output_type": "stream",
          "name": "stdout",
          "text": [
            "\n",
            "      Epoch    GPU_mem   box_loss   cls_loss   dfl_loss  Instances       Size\n"
          ]
        },
        {
          "output_type": "stream",
          "name": "stderr",
          "text": [
            "     84/100      3.99G      1.003     0.5662      1.011        164        640: 100%|██████████| 6/6 [00:01<00:00,  4.84it/s]\n",
            "                 Class     Images  Instances      Box(P          R      mAP50  mAP50-95): 100%|██████████| 2/2 [00:00<00:00,  4.61it/s]"
          ]
        },
        {
          "output_type": "stream",
          "name": "stdout",
          "text": [
            "                   all         39        259      0.981      0.985      0.988      0.775\n"
          ]
        },
        {
          "output_type": "stream",
          "name": "stderr",
          "text": [
            "\n"
          ]
        },
        {
          "output_type": "stream",
          "name": "stdout",
          "text": [
            "\n",
            "      Epoch    GPU_mem   box_loss   cls_loss   dfl_loss  Instances       Size\n"
          ]
        },
        {
          "output_type": "stream",
          "name": "stderr",
          "text": [
            "     85/100      4.01G     0.9603     0.5537      1.012        144        640: 100%|██████████| 6/6 [00:01<00:00,  4.74it/s]\n",
            "                 Class     Images  Instances      Box(P          R      mAP50  mAP50-95): 100%|██████████| 2/2 [00:00<00:00,  4.74it/s]"
          ]
        },
        {
          "output_type": "stream",
          "name": "stdout",
          "text": [
            "                   all         39        259      0.979      0.985      0.989      0.775\n"
          ]
        },
        {
          "output_type": "stream",
          "name": "stderr",
          "text": [
            "\n"
          ]
        },
        {
          "output_type": "stream",
          "name": "stdout",
          "text": [
            "\n",
            "      Epoch    GPU_mem   box_loss   cls_loss   dfl_loss  Instances       Size\n"
          ]
        },
        {
          "output_type": "stream",
          "name": "stderr",
          "text": [
            "     86/100      4.03G     0.9629      0.568      0.999        186        640: 100%|██████████| 6/6 [00:01<00:00,  4.97it/s]\n",
            "                 Class     Images  Instances      Box(P          R      mAP50  mAP50-95): 100%|██████████| 2/2 [00:00<00:00,  4.52it/s]"
          ]
        },
        {
          "output_type": "stream",
          "name": "stdout",
          "text": [
            "                   all         39        259      0.977      0.985      0.989      0.773\n"
          ]
        },
        {
          "output_type": "stream",
          "name": "stderr",
          "text": [
            "\n"
          ]
        },
        {
          "output_type": "stream",
          "name": "stdout",
          "text": [
            "\n",
            "      Epoch    GPU_mem   box_loss   cls_loss   dfl_loss  Instances       Size\n"
          ]
        },
        {
          "output_type": "stream",
          "name": "stderr",
          "text": [
            "     87/100      4.04G      0.935     0.5466      1.001        148        640: 100%|██████████| 6/6 [00:01<00:00,  4.62it/s]\n",
            "                 Class     Images  Instances      Box(P          R      mAP50  mAP50-95): 100%|██████████| 2/2 [00:00<00:00,  2.79it/s]"
          ]
        },
        {
          "output_type": "stream",
          "name": "stdout",
          "text": [
            "                   all         39        259      0.977      0.988       0.99      0.776\n"
          ]
        },
        {
          "output_type": "stream",
          "name": "stderr",
          "text": [
            "\n"
          ]
        },
        {
          "output_type": "stream",
          "name": "stdout",
          "text": [
            "\n",
            "      Epoch    GPU_mem   box_loss   cls_loss   dfl_loss  Instances       Size\n"
          ]
        },
        {
          "output_type": "stream",
          "name": "stderr",
          "text": [
            "     88/100      4.06G     0.9321     0.5448     0.9727        118        640: 100%|██████████| 6/6 [00:01<00:00,  3.83it/s]\n",
            "                 Class     Images  Instances      Box(P          R      mAP50  mAP50-95): 100%|██████████| 2/2 [00:00<00:00,  3.89it/s]"
          ]
        },
        {
          "output_type": "stream",
          "name": "stdout",
          "text": [
            "                   all         39        259      0.977      0.988      0.991      0.772\n"
          ]
        },
        {
          "output_type": "stream",
          "name": "stderr",
          "text": [
            "\n"
          ]
        },
        {
          "output_type": "stream",
          "name": "stdout",
          "text": [
            "\n",
            "      Epoch    GPU_mem   box_loss   cls_loss   dfl_loss  Instances       Size\n"
          ]
        },
        {
          "output_type": "stream",
          "name": "stderr",
          "text": [
            "     89/100      4.08G     0.9777     0.5543      1.015        129        640: 100%|██████████| 6/6 [00:01<00:00,  4.78it/s]\n",
            "                 Class     Images  Instances      Box(P          R      mAP50  mAP50-95): 100%|██████████| 2/2 [00:00<00:00,  4.77it/s]"
          ]
        },
        {
          "output_type": "stream",
          "name": "stdout",
          "text": [
            "                   all         39        259      0.981      0.984      0.992      0.773\n"
          ]
        },
        {
          "output_type": "stream",
          "name": "stderr",
          "text": [
            "\n"
          ]
        },
        {
          "output_type": "stream",
          "name": "stdout",
          "text": [
            "\n",
            "      Epoch    GPU_mem   box_loss   cls_loss   dfl_loss  Instances       Size\n"
          ]
        },
        {
          "output_type": "stream",
          "name": "stderr",
          "text": [
            "     90/100      4.09G     0.9405     0.5417     0.9938        170        640: 100%|██████████| 6/6 [00:01<00:00,  4.61it/s]\n",
            "                 Class     Images  Instances      Box(P          R      mAP50  mAP50-95): 100%|██████████| 2/2 [00:00<00:00,  5.40it/s]"
          ]
        },
        {
          "output_type": "stream",
          "name": "stdout",
          "text": [
            "                   all         39        259      0.976      0.992      0.994      0.785\n"
          ]
        },
        {
          "output_type": "stream",
          "name": "stderr",
          "text": [
            "\n"
          ]
        },
        {
          "output_type": "stream",
          "name": "stdout",
          "text": [
            "Closing dataloader mosaic\n",
            "\u001b[34m\u001b[1malbumentations: \u001b[0mBlur(p=0.01, blur_limit=(3, 7)), MedianBlur(p=0.01, blur_limit=(3, 7)), ToGray(p=0.01, method='weighted_average', num_output_channels=3), CLAHE(p=0.01, clip_limit=(1.0, 4.0), tile_grid_size=(8, 8))\n",
            "\n",
            "      Epoch    GPU_mem   box_loss   cls_loss   dfl_loss  Instances       Size\n"
          ]
        },
        {
          "output_type": "stream",
          "name": "stderr",
          "text": [
            "     91/100      4.11G     0.8906     0.5169     0.9994        114        640: 100%|██████████| 6/6 [00:02<00:00,  2.36it/s]\n",
            "                 Class     Images  Instances      Box(P          R      mAP50  mAP50-95): 100%|██████████| 2/2 [00:00<00:00,  3.05it/s]"
          ]
        },
        {
          "output_type": "stream",
          "name": "stdout",
          "text": [
            "                   all         39        259       0.98      0.992      0.994      0.787\n"
          ]
        },
        {
          "output_type": "stream",
          "name": "stderr",
          "text": [
            "\n"
          ]
        },
        {
          "output_type": "stream",
          "name": "stdout",
          "text": [
            "\n",
            "      Epoch    GPU_mem   box_loss   cls_loss   dfl_loss  Instances       Size\n"
          ]
        },
        {
          "output_type": "stream",
          "name": "stderr",
          "text": [
            "     92/100      4.13G     0.8791     0.5025     0.9792         86        640: 100%|██████████| 6/6 [00:01<00:00,  4.81it/s]\n",
            "                 Class     Images  Instances      Box(P          R      mAP50  mAP50-95): 100%|██████████| 2/2 [00:00<00:00,  3.36it/s]"
          ]
        },
        {
          "output_type": "stream",
          "name": "stdout",
          "text": [
            "                   all         39        259       0.98      0.992      0.994      0.778\n"
          ]
        },
        {
          "output_type": "stream",
          "name": "stderr",
          "text": [
            "\n"
          ]
        },
        {
          "output_type": "stream",
          "name": "stdout",
          "text": [
            "\n",
            "      Epoch    GPU_mem   box_loss   cls_loss   dfl_loss  Instances       Size\n"
          ]
        },
        {
          "output_type": "stream",
          "name": "stderr",
          "text": [
            "     93/100      4.15G     0.8767     0.5064     0.9907        111        640: 100%|██████████| 6/6 [00:01<00:00,  3.71it/s]\n",
            "                 Class     Images  Instances      Box(P          R      mAP50  mAP50-95): 100%|██████████| 2/2 [00:00<00:00,  3.05it/s]\n"
          ]
        },
        {
          "output_type": "stream",
          "name": "stdout",
          "text": [
            "                   all         39        259      0.976      0.988      0.984      0.774\n",
            "\n",
            "      Epoch    GPU_mem   box_loss   cls_loss   dfl_loss  Instances       Size\n"
          ]
        },
        {
          "output_type": "stream",
          "name": "stderr",
          "text": [
            "     94/100      4.16G     0.8783     0.4944     0.9719        101        640: 100%|██████████| 6/6 [00:01<00:00,  4.90it/s]\n",
            "                 Class     Images  Instances      Box(P          R      mAP50  mAP50-95): 100%|██████████| 2/2 [00:00<00:00,  5.01it/s]"
          ]
        },
        {
          "output_type": "stream",
          "name": "stdout",
          "text": [
            "                   all         39        259      0.976      0.988      0.985      0.763\n"
          ]
        },
        {
          "output_type": "stream",
          "name": "stderr",
          "text": [
            "\n"
          ]
        },
        {
          "output_type": "stream",
          "name": "stdout",
          "text": [
            "\n",
            "      Epoch    GPU_mem   box_loss   cls_loss   dfl_loss  Instances       Size\n"
          ]
        },
        {
          "output_type": "stream",
          "name": "stderr",
          "text": [
            "     95/100      4.18G     0.8666     0.5117      0.974         96        640: 100%|██████████| 6/6 [00:01<00:00,  4.85it/s]\n",
            "                 Class     Images  Instances      Box(P          R      mAP50  mAP50-95): 100%|██████████| 2/2 [00:00<00:00,  4.80it/s]"
          ]
        },
        {
          "output_type": "stream",
          "name": "stdout",
          "text": [
            "                   all         39        259      0.981      0.992      0.994       0.77\n"
          ]
        },
        {
          "output_type": "stream",
          "name": "stderr",
          "text": [
            "\n"
          ]
        },
        {
          "output_type": "stream",
          "name": "stdout",
          "text": [
            "\n",
            "      Epoch    GPU_mem   box_loss   cls_loss   dfl_loss  Instances       Size\n"
          ]
        },
        {
          "output_type": "stream",
          "name": "stderr",
          "text": [
            "     96/100       4.2G     0.8795      0.503     0.9994         75        640: 100%|██████████| 6/6 [00:01<00:00,  4.94it/s]\n",
            "                 Class     Images  Instances      Box(P          R      mAP50  mAP50-95): 100%|██████████| 2/2 [00:00<00:00,  5.18it/s]"
          ]
        },
        {
          "output_type": "stream",
          "name": "stdout",
          "text": [
            "                   all         39        259      0.984      0.988      0.994      0.786\n"
          ]
        },
        {
          "output_type": "stream",
          "name": "stderr",
          "text": [
            "\n"
          ]
        },
        {
          "output_type": "stream",
          "name": "stdout",
          "text": [
            "\n",
            "      Epoch    GPU_mem   box_loss   cls_loss   dfl_loss  Instances       Size\n"
          ]
        },
        {
          "output_type": "stream",
          "name": "stderr",
          "text": [
            "     97/100      4.21G     0.8679     0.4902     0.9865        111        640: 100%|██████████| 6/6 [00:01<00:00,  5.13it/s]\n",
            "                 Class     Images  Instances      Box(P          R      mAP50  mAP50-95): 100%|██████████| 2/2 [00:00<00:00,  4.09it/s]"
          ]
        },
        {
          "output_type": "stream",
          "name": "stdout",
          "text": [
            "                   all         39        259       0.98      0.992      0.994      0.794\n"
          ]
        },
        {
          "output_type": "stream",
          "name": "stderr",
          "text": [
            "\n"
          ]
        },
        {
          "output_type": "stream",
          "name": "stdout",
          "text": [
            "\n",
            "      Epoch    GPU_mem   box_loss   cls_loss   dfl_loss  Instances       Size\n"
          ]
        },
        {
          "output_type": "stream",
          "name": "stderr",
          "text": [
            "     98/100      4.23G     0.8503     0.4904      0.959        115        640: 100%|██████████| 6/6 [00:01<00:00,  5.01it/s]\n",
            "                 Class     Images  Instances      Box(P          R      mAP50  mAP50-95): 100%|██████████| 2/2 [00:00<00:00,  5.08it/s]"
          ]
        },
        {
          "output_type": "stream",
          "name": "stdout",
          "text": [
            "                   all         39        259       0.98      0.992      0.994      0.799\n"
          ]
        },
        {
          "output_type": "stream",
          "name": "stderr",
          "text": [
            "\n"
          ]
        },
        {
          "output_type": "stream",
          "name": "stdout",
          "text": [
            "\n",
            "      Epoch    GPU_mem   box_loss   cls_loss   dfl_loss  Instances       Size\n"
          ]
        },
        {
          "output_type": "stream",
          "name": "stderr",
          "text": [
            "     99/100      4.25G     0.8345     0.4856     0.9872        109        640: 100%|██████████| 6/6 [00:01<00:00,  3.52it/s]\n",
            "                 Class     Images  Instances      Box(P          R      mAP50  mAP50-95): 100%|██████████| 2/2 [00:00<00:00,  2.54it/s]"
          ]
        },
        {
          "output_type": "stream",
          "name": "stdout",
          "text": [
            "                   all         39        259      0.979      0.992      0.994      0.802\n"
          ]
        },
        {
          "output_type": "stream",
          "name": "stderr",
          "text": [
            "\n"
          ]
        },
        {
          "output_type": "stream",
          "name": "stdout",
          "text": [
            "\n",
            "      Epoch    GPU_mem   box_loss   cls_loss   dfl_loss  Instances       Size\n"
          ]
        },
        {
          "output_type": "stream",
          "name": "stderr",
          "text": [
            "    100/100      4.27G     0.8266     0.4821      0.944        106        640: 100%|██████████| 6/6 [00:01<00:00,  4.99it/s]\n",
            "                 Class     Images  Instances      Box(P          R      mAP50  mAP50-95): 100%|██████████| 2/2 [00:00<00:00,  4.06it/s]"
          ]
        },
        {
          "output_type": "stream",
          "name": "stdout",
          "text": [
            "                   all         39        259      0.979      0.992      0.994      0.801\n"
          ]
        },
        {
          "output_type": "stream",
          "name": "stderr",
          "text": [
            "\n"
          ]
        },
        {
          "output_type": "stream",
          "name": "stdout",
          "text": [
            "\n",
            "100 epochs completed in 0.060 hours.\n",
            "Optimizer stripped from runs/detect/train/weights/last.pt, 6.3MB\n",
            "Optimizer stripped from runs/detect/train/weights/best.pt, 6.3MB\n",
            "\n",
            "Validating runs/detect/train/weights/best.pt...\n",
            "Ultralytics 8.3.149 🚀 Python-3.11.12 torch-2.6.0+cu124 CUDA:0 (Tesla T4, 15095MiB)\n",
            "Model summary (fused): 72 layers, 3,005,843 parameters, 0 gradients, 8.1 GFLOPs\n"
          ]
        },
        {
          "output_type": "stream",
          "name": "stderr",
          "text": [
            "                 Class     Images  Instances      Box(P          R      mAP50  mAP50-95): 100%|██████████| 2/2 [00:00<00:00,  4.16it/s]\n"
          ]
        },
        {
          "output_type": "stream",
          "name": "stdout",
          "text": [
            "                   all         39        259      0.979      0.992      0.994      0.801\n",
            "Speed: 0.2ms preprocess, 2.5ms inference, 0.0ms loss, 1.8ms postprocess per image\n",
            "Results saved to \u001b[1mruns/detect/train\u001b[0m\n"
          ]
        }
      ]
    },
    {
      "cell_type": "markdown",
      "source": [
        "## Évaluation du modèle\n"
      ],
      "metadata": {
        "id": "xCAR1_I090pR"
      }
    },
    {
      "cell_type": "code",
      "source": [
        "# Évaluation sur le jeu de validation\n",
        "metrics = model.val()\n",
        "print(f\"mAP50: {metrics.box.map50}\")\n",
        "print(f\"mAP50-95: {metrics.box.map}\")\n"
      ],
      "metadata": {
        "colab": {
          "base_uri": "https://localhost:8080/"
        },
        "id": "YapFheR89163",
        "outputId": "c51d3b43-cf3f-4110-bca3-8497ac0baefd"
      },
      "execution_count": 8,
      "outputs": [
        {
          "output_type": "stream",
          "name": "stdout",
          "text": [
            "Ultralytics 8.3.149 🚀 Python-3.11.12 torch-2.6.0+cu124 CUDA:0 (Tesla T4, 15095MiB)\n",
            "Model summary (fused): 72 layers, 3,005,843 parameters, 0 gradients, 8.1 GFLOPs\n",
            "\u001b[34m\u001b[1mval: \u001b[0mFast image access ✅ (ping: 0.0±0.0 ms, read: 1137.8±372.7 MB/s, size: 97.8 KB)\n"
          ]
        },
        {
          "output_type": "stream",
          "name": "stderr",
          "text": [
            "\u001b[34m\u001b[1mval: \u001b[0mScanning /content/Scan-Trad-project/data/train_version_YOLO_V8/val/labels.cache... 39 images, 0 backgrounds, 0 corrupt: 100%|██████████| 39/39 [00:00<?, ?it/s]\n",
            "                 Class     Images  Instances      Box(P          R      mAP50  mAP50-95): 100%|██████████| 3/3 [00:01<00:00,  1.85it/s]\n"
          ]
        },
        {
          "output_type": "stream",
          "name": "stdout",
          "text": [
            "                   all         39        259      0.979      0.992      0.994      0.801\n",
            "Speed: 5.0ms preprocess, 12.0ms inference, 0.0ms loss, 1.7ms postprocess per image\n",
            "Results saved to \u001b[1mruns/detect/train2\u001b[0m\n",
            "mAP50: 0.9943759531489729\n",
            "mAP50-95: 0.8012605348787212\n"
          ]
        }
      ]
    },
    {
      "cell_type": "markdown",
      "source": [
        "## Test du modèle sur une image\n"
      ],
      "metadata": {
        "id": "VzdOqqVV9_Se"
      }
    },
    {
      "cell_type": "code",
      "source": [
        "# Prédiction sur une image\n",
        "results = model.predict('/content/Scan-Trad-project/data/train_version_YOLO_V8/images/DS_100_jpg.rf.f4aa7b39cf6ec62c4b8de2fd066c3a4b.jpg', save=True)\n",
        "print(\"Prédictions terminées !\")\n"
      ],
      "metadata": {
        "colab": {
          "base_uri": "https://localhost:8080/"
        },
        "id": "EFurGG3d-BMR",
        "outputId": "95d6bfd5-64bd-4de2-985d-c4b789640e3a"
      },
      "execution_count": 11,
      "outputs": [
        {
          "output_type": "stream",
          "name": "stdout",
          "text": [
            "\n",
            "image 1/1 /content/Scan-Trad-project/data/train_version_YOLO_V8/images/DS_100_jpg.rf.f4aa7b39cf6ec62c4b8de2fd066c3a4b.jpg: 640x640 7 bulles, 8.5ms\n",
            "Speed: 2.7ms preprocess, 8.5ms inference, 1.7ms postprocess per image at shape (1, 3, 640, 640)\n",
            "Results saved to \u001b[1mruns/detect/train3\u001b[0m\n",
            "Prédictions terminées !\n"
          ]
        }
      ]
    },
    {
      "cell_type": "markdown",
      "source": [
        "## Sauvegarder le modèle\n"
      ],
      "metadata": {
        "id": "RRz3Vlgad1az"
      }
    },
    {
      "cell_type": "code",
      "source": [
        "model.save('best_textbubbles_model.pt')\n"
      ],
      "metadata": {
        "id": "p2b8nqNad4iy"
      },
      "execution_count": 12,
      "outputs": []
    }
  ]
}